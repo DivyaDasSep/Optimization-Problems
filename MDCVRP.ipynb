{
 "cells": [
  {
   "cell_type": "markdown",
   "id": "3107ffbf",
   "metadata": {},
   "source": [
    "## ALGORITHM DESIGN AND COMPARISON FOR AN OPTIMIZATION PROBLEM\n",
    "#### Submitted by Group - 6 (Batch: Sep2021)\n",
    "\n",
    "1. Divya Das (s5426634)\n",
    "2. Angel Rose Ambrose (s5332769)\n",
    "3. Barnabas Madu (s5419903)\n",
    "4. Nishant Bhikhabhai Thaker (s5230336)\n",
    "5. Mamatha Murali (s5429007)"
   ]
  },
  {
   "cell_type": "markdown",
   "id": "d060c27c",
   "metadata": {},
   "source": [
    "### Delivery Planning for the LPG Distributor - SAO Gas Ltd (Both Problem 1 and 2 are in this file)\n",
    "* Location: Country of Optilandia\n",
    "* SAO Depot: 5\n",
    "* SAO Vehicles : 25 Tanker Lorries\n",
    "\n",
    "### Data Set provided\n",
    "1. SaO_Optilandia_locations.csv\n",
    "    * This file consists of the Location IDs, x and y coordinates of the depots, customers and all connecting nodes, capacity of their tank and current fuel level.\n",
    "    \n",
    "2. SaO_Optilandia_links.csv\n",
    "    * This file consists the connections or links between nodes which forms the path or roads of Optilandia\n",
    "3. SaO_Optilandia_depot_lorries.json\n",
    "    * This files consists of Lorry details i.e lorry IDs, capacity, cost per mile(cpm) and cost per mile per tonne(cptm) in a JSON file."
   ]
  },
  {
   "cell_type": "markdown",
   "id": "c11d4bbc",
   "metadata": {},
   "source": [
    "### The Problems:\n",
    "The problem is a MDCVRP (Multi Depot Capacitated Vehicle Routing Problem) with 5 depot with each depot having 5 vehicle. There are three type of vehicle with different capacity and cost. We have to schedule the delivery plan for gas by SAO Gas Ltd in Optilandia Country.\n",
    "### The Aproach: \n",
    "We followed Cluster Route Cluster technique to solve the problem: <br/>\n",
    "1. First we cluster all the customers into 5 groups for 5 depots depending on its distance from the depots\n",
    "2. Then we apply the algorithms to get the most optimized sequence of customers to be followed for each problem. <br/>* For Problem 1 we used Genetic algorithm to minimize time <br/>* For Problem 2 we used Greedy Scheduler to maximize the cost efficiency\n",
    "3. Finally, we divided the path or sequence received from step 2 into routes for different vehicle depending on the contraints.\n"
   ]
  },
  {
   "cell_type": "markdown",
   "id": "8d9beaba",
   "metadata": {},
   "source": [
    "### OPTIMIZATION SCHEMES UTILIZED\n",
    "#### 1. GENETIC ALGORITHM OPTIMIZATION\n",
    "Genetic Algorithm is an optimization algorithm inspired from the natural optimization process i.e. Natural Selection in Evolution and is one of the class Evolutionary Algorithm. It is developed in 1975 by John Holland at the University of Michingan for Machine Learning.\n",
    "In our problem, we consider each customer, depot and any other location (with an x, y) coordinate as a node (generally a gene in Genetic Algorithm), all the nodes i.e. customers clustered to a depot is considered to form a path (generally a chromosome in Genetic Algorithm) which is the input or basic of the genetic algorithm.\n",
    "Steps of GA \n",
    ">* Start\n",
    ">* Initialize Population\n",
    ">* Fitness Evaluation\n",
    ">* Selection of Parents\n",
    ">* Crossover parents\n",
    ">* Mutation child/offspring\n",
    ">* Fitness Evaluation the new individuals\n",
    ">* Selection for next generation\n",
    ">* Repeat from Selection Untill the population Converge\n",
    ">* Stop\n",
    "\n",
    "**Initialize** <br/> Initialize Step generate the initial population from the input. In our problem we take path(all customer nodes of a depot) as input and random shuffle to form initial population.\n",
    "\n",
    "**Fitness Evaluation** <br/> Problem 1 is to minimize the time which is directly proportional to distance so our Fitness evaluation function finds the total distance of a path from and back to depot after serving all customer and compare.\n",
    "\n",
    "**Selection** <br/> Selection step selects the parent or best paths from current population to generate ofsprings for next generation. Here we have used tournament selection method, in which random paths are selected and compete against each other and best or fittest paths are selected as parents.\n",
    "\n",
    "**Crossover** <br/> In crossover step selected parents are combined to form offspring or child. Here we are using single point crossover. First trunk the parents into two and the later end is exchanged between the parents but this generates invalid paths with repeated nodes. So we exchange the repeating nodes from the former half to make valid offsprings or childs.\n",
    "\n",
    "**Mutation** <br/> Muation is to modify some nodes in the path but in here modifying can result in invalid path so here we used inversion mutation in which we randomly select a part of the path and invert the order of the nodes in that part.\n",
    "\n",
    "#### 2. GREEDY SCHEDULER\n",
    "Greedy Scheduler is used to generate and schedule the path. Greedy algorithm makes the choice of next step at current step only that is it thinks only 1 step ahead. Here the greedy algorithm moves to the next nearest node and proceeds like that to all the customers to minimize the coat and eventually maximize the cost efficiency. In our scheduler we introduced various function to restrict the constraints specified in the problem.\n"
   ]
  },
  {
   "cell_type": "markdown",
   "id": "9c207a71",
   "metadata": {},
   "source": [
    "### Libraries Used\n",
    "#### NetworkX Graph Library\n",
    "The code uses Networkx library to plot the graph of the Country of Optilandia by calculataing the Eucladean distance between the nodes using the coordinates provided in dataset file 1 and squareform from scipy library.\n",
    "\n",
    ">**all_pairs_dijkstra_path_length() :** All Pair Dijikstra Shortest Path Algorithm is used from NetworkX Library to form a matrix of the distance between all the pair of nodes in the weighted network. It is then further used in the Fitness Calculation function for Problem 1 Genetic Algorithm and the Nearset Node Calculation function for Problem 2 Greedy Scheduler. \n",
    "\n",
    ">**multi_source_dijkstra() :** Multi Source Dijikstras Shortest Path Algorithm is used from NetworkX Library. It takes a node and a list of source nodes and find the source node at the shortest distance to the node, calculate its distance and nodes path to reach from source to node in a weighted graph or network. Here it is used to divide and cluster the customers between the depots.\n",
    "\n",
    "#### Pandas Library\n",
    "Pandas is a software library for data manipulation and analysis. Here we are using Pandas library to convert the dataset files to dataframes and manipulate changes as per our requirement for algorithms.\n",
    "\n",
    "#### NumPy Library\n",
    "NumPy library is used to work with certain arrays and matrices in codes.\n",
    "\n",
    "#### Matplot Library\n",
    "Matplotlib is a comprehensive library for creating static, animated, and interactive visualizations in Python. Here we used this library to plot graphs to viualize the optimization results.\n",
    "\n",
    "#### Json Library\n",
    "Json Libary is used to read and write json files\n",
    "\n",
    "#### Random Library\n",
    "Random library used whereever we need to select random numbers from a range or randomly shuffle etc."
   ]
  },
  {
   "cell_type": "markdown",
   "id": "142c929b",
   "metadata": {},
   "source": [
    "<br/>"
   ]
  },
  {
   "cell_type": "markdown",
   "id": "7f3890cb",
   "metadata": {},
   "source": [
    "<br/>"
   ]
  },
  {
   "cell_type": "markdown",
   "id": "5feefde4",
   "metadata": {},
   "source": [
    "<br/>"
   ]
  },
  {
   "cell_type": "markdown",
   "id": "73a003a5",
   "metadata": {},
   "source": [
    "<br/>"
   ]
  },
  {
   "cell_type": "markdown",
   "id": "2dd691b9",
   "metadata": {},
   "source": [
    "## Problem1: "
   ]
  },
  {
   "cell_type": "markdown",
   "id": "b88c9bcf",
   "metadata": {},
   "source": [
    "### Tasks\n",
    "1. Schedule LPG delivery to all customers in order to fully fill their tanks to minimise the overall dispatch time for delivery\n",
    "2. No additional constrains apart from the tanker lorry capacity ."
   ]
  },
  {
   "cell_type": "markdown",
   "id": "b7496901",
   "metadata": {},
   "source": [
    "### METHODOLOGY USED TO SOLVE\n",
    " 1. All the data provided with the problem are read and converted to usable dataframe format\n",
    " 2. Visualizing the network only with nodes and with depots and customers \n",
    " 3. Dividing and alocating the customers to nearest depot by calculating Dijikstras shortest path\n",
    " 4. Visualizing each depot's alocated customers individually\n",
    " 5. Applied Genetic Algorithm to get the optimized path for each depot\n",
    " 6. Path received for each depot is divided into 5 path each for the vehicle depending on the vahicle capacity and customer demand\n",
    " 7. Final paths is converted to single dictionary and exported as JSON solution File"
   ]
  },
  {
   "cell_type": "markdown",
   "id": "1965da4e",
   "metadata": {},
   "source": [
    "### Important Points Noticed\n",
    " * To minimize time the formula is <br/> \n",
    "     \"Time(from one node to another) =(distance(miles)/speed(miles/hour))*60 + Weight(tonnes) * 10(min/tonne) + 5min\"\n",
    "   * in the above equation the Weight(tonnes)* 10(min/tonnes) and 5 min for customer location time will be equal in all path \n",
    " * condition because we have to serve all the customer and fully fill them for Problem1\n",
    " * So, Time is directly proportional to distance\n",
    " * To minimize time minimize distance our fitness function will minimize distance here"
   ]
  },
  {
   "cell_type": "markdown",
   "id": "49cdc26c",
   "metadata": {},
   "source": [
    "## Library Import"
   ]
  },
  {
   "cell_type": "code",
   "execution_count": 1,
   "id": "7d97cb2f",
   "metadata": {},
   "outputs": [],
   "source": [
    "import numpy as np\n",
    "import pandas as pd\n",
    "import matplotlib.pyplot as plt\n",
    "import networkx as nx\n",
    "import json\n",
    "import random\n",
    "from random import randrange\n",
    "from time import time \n",
    "from scipy.spatial.distance import pdist, squareform"
   ]
  },
  {
   "cell_type": "markdown",
   "id": "06664fb1",
   "metadata": {},
   "source": [
    "<br/>"
   ]
  },
  {
   "cell_type": "markdown",
   "id": "a254840a",
   "metadata": {},
   "source": [
    "<br/>"
   ]
  },
  {
   "cell_type": "markdown",
   "id": "c580cc4a",
   "metadata": {},
   "source": [
    "### Read Dataset provided\n",
    "#### 1. SaO_Optilandia_locations.csv - contains customer locations\n",
    "* read and convert the csv file to dataframe"
   ]
  },
  {
   "cell_type": "code",
   "execution_count": 2,
   "id": "4fca61fe",
   "metadata": {
    "scrolled": false
   },
   "outputs": [
    {
     "ename": "FileNotFoundError",
     "evalue": "[Errno 2] No such file or directory: 'SaO_Optilandia_locations.csv'",
     "output_type": "error",
     "traceback": [
      "\u001b[1;31m---------------------------------------------------------------------------\u001b[0m",
      "\u001b[1;31mFileNotFoundError\u001b[0m                         Traceback (most recent call last)",
      "\u001b[1;32m~\\AppData\\Local\\Temp/ipykernel_13276/226779925.py\u001b[0m in \u001b[0;36m<module>\u001b[1;34m\u001b[0m\n\u001b[1;32m----> 1\u001b[1;33m \u001b[0mloc\u001b[0m \u001b[1;33m=\u001b[0m \u001b[0mpd\u001b[0m\u001b[1;33m.\u001b[0m\u001b[0mread_csv\u001b[0m\u001b[1;33m(\u001b[0m\u001b[1;34m'SaO_Optilandia_locations.csv'\u001b[0m\u001b[1;33m)\u001b[0m\u001b[1;33m\u001b[0m\u001b[1;33m\u001b[0m\u001b[0m\n\u001b[0m\u001b[0;32m      2\u001b[0m \u001b[0mloc\u001b[0m\u001b[1;33m[\u001b[0m\u001b[1;34m'demand'\u001b[0m\u001b[1;33m]\u001b[0m\u001b[1;33m=\u001b[0m\u001b[0mround\u001b[0m\u001b[1;33m(\u001b[0m\u001b[0mloc\u001b[0m\u001b[1;33m[\u001b[0m\u001b[1;34m'capacity'\u001b[0m\u001b[1;33m]\u001b[0m\u001b[1;33m-\u001b[0m\u001b[0mloc\u001b[0m\u001b[1;33m[\u001b[0m\u001b[1;34m'level'\u001b[0m\u001b[1;33m]\u001b[0m\u001b[1;33m,\u001b[0m\u001b[1;36m2\u001b[0m\u001b[1;33m)\u001b[0m \u001b[1;31m### Calculated the needed Gas by subtracting level from capacity\u001b[0m\u001b[1;33m\u001b[0m\u001b[1;33m\u001b[0m\u001b[0m\n\u001b[0;32m      3\u001b[0m \u001b[0mloc\u001b[0m\u001b[1;33m.\u001b[0m\u001b[0mhead\u001b[0m\u001b[1;33m(\u001b[0m\u001b[1;36m8\u001b[0m\u001b[1;33m)\u001b[0m\u001b[1;33m\u001b[0m\u001b[1;33m\u001b[0m\u001b[0m\n",
      "\u001b[1;32m~\\anaconda3\\lib\\site-packages\\pandas\\util\\_decorators.py\u001b[0m in \u001b[0;36mwrapper\u001b[1;34m(*args, **kwargs)\u001b[0m\n\u001b[0;32m    309\u001b[0m                     \u001b[0mstacklevel\u001b[0m\u001b[1;33m=\u001b[0m\u001b[0mstacklevel\u001b[0m\u001b[1;33m,\u001b[0m\u001b[1;33m\u001b[0m\u001b[1;33m\u001b[0m\u001b[0m\n\u001b[0;32m    310\u001b[0m                 )\n\u001b[1;32m--> 311\u001b[1;33m             \u001b[1;32mreturn\u001b[0m \u001b[0mfunc\u001b[0m\u001b[1;33m(\u001b[0m\u001b[1;33m*\u001b[0m\u001b[0margs\u001b[0m\u001b[1;33m,\u001b[0m \u001b[1;33m**\u001b[0m\u001b[0mkwargs\u001b[0m\u001b[1;33m)\u001b[0m\u001b[1;33m\u001b[0m\u001b[1;33m\u001b[0m\u001b[0m\n\u001b[0m\u001b[0;32m    312\u001b[0m \u001b[1;33m\u001b[0m\u001b[0m\n\u001b[0;32m    313\u001b[0m         \u001b[1;32mreturn\u001b[0m \u001b[0mwrapper\u001b[0m\u001b[1;33m\u001b[0m\u001b[1;33m\u001b[0m\u001b[0m\n",
      "\u001b[1;32m~\\anaconda3\\lib\\site-packages\\pandas\\io\\parsers\\readers.py\u001b[0m in \u001b[0;36mread_csv\u001b[1;34m(filepath_or_buffer, sep, delimiter, header, names, index_col, usecols, squeeze, prefix, mangle_dupe_cols, dtype, engine, converters, true_values, false_values, skipinitialspace, skiprows, skipfooter, nrows, na_values, keep_default_na, na_filter, verbose, skip_blank_lines, parse_dates, infer_datetime_format, keep_date_col, date_parser, dayfirst, cache_dates, iterator, chunksize, compression, thousands, decimal, lineterminator, quotechar, quoting, doublequote, escapechar, comment, encoding, encoding_errors, dialect, error_bad_lines, warn_bad_lines, on_bad_lines, delim_whitespace, low_memory, memory_map, float_precision, storage_options)\u001b[0m\n\u001b[0;32m    584\u001b[0m     \u001b[0mkwds\u001b[0m\u001b[1;33m.\u001b[0m\u001b[0mupdate\u001b[0m\u001b[1;33m(\u001b[0m\u001b[0mkwds_defaults\u001b[0m\u001b[1;33m)\u001b[0m\u001b[1;33m\u001b[0m\u001b[1;33m\u001b[0m\u001b[0m\n\u001b[0;32m    585\u001b[0m \u001b[1;33m\u001b[0m\u001b[0m\n\u001b[1;32m--> 586\u001b[1;33m     \u001b[1;32mreturn\u001b[0m \u001b[0m_read\u001b[0m\u001b[1;33m(\u001b[0m\u001b[0mfilepath_or_buffer\u001b[0m\u001b[1;33m,\u001b[0m \u001b[0mkwds\u001b[0m\u001b[1;33m)\u001b[0m\u001b[1;33m\u001b[0m\u001b[1;33m\u001b[0m\u001b[0m\n\u001b[0m\u001b[0;32m    587\u001b[0m \u001b[1;33m\u001b[0m\u001b[0m\n\u001b[0;32m    588\u001b[0m \u001b[1;33m\u001b[0m\u001b[0m\n",
      "\u001b[1;32m~\\anaconda3\\lib\\site-packages\\pandas\\io\\parsers\\readers.py\u001b[0m in \u001b[0;36m_read\u001b[1;34m(filepath_or_buffer, kwds)\u001b[0m\n\u001b[0;32m    480\u001b[0m \u001b[1;33m\u001b[0m\u001b[0m\n\u001b[0;32m    481\u001b[0m     \u001b[1;31m# Create the parser.\u001b[0m\u001b[1;33m\u001b[0m\u001b[1;33m\u001b[0m\u001b[0m\n\u001b[1;32m--> 482\u001b[1;33m     \u001b[0mparser\u001b[0m \u001b[1;33m=\u001b[0m \u001b[0mTextFileReader\u001b[0m\u001b[1;33m(\u001b[0m\u001b[0mfilepath_or_buffer\u001b[0m\u001b[1;33m,\u001b[0m \u001b[1;33m**\u001b[0m\u001b[0mkwds\u001b[0m\u001b[1;33m)\u001b[0m\u001b[1;33m\u001b[0m\u001b[1;33m\u001b[0m\u001b[0m\n\u001b[0m\u001b[0;32m    483\u001b[0m \u001b[1;33m\u001b[0m\u001b[0m\n\u001b[0;32m    484\u001b[0m     \u001b[1;32mif\u001b[0m \u001b[0mchunksize\u001b[0m \u001b[1;32mor\u001b[0m \u001b[0miterator\u001b[0m\u001b[1;33m:\u001b[0m\u001b[1;33m\u001b[0m\u001b[1;33m\u001b[0m\u001b[0m\n",
      "\u001b[1;32m~\\anaconda3\\lib\\site-packages\\pandas\\io\\parsers\\readers.py\u001b[0m in \u001b[0;36m__init__\u001b[1;34m(self, f, engine, **kwds)\u001b[0m\n\u001b[0;32m    809\u001b[0m             \u001b[0mself\u001b[0m\u001b[1;33m.\u001b[0m\u001b[0moptions\u001b[0m\u001b[1;33m[\u001b[0m\u001b[1;34m\"has_index_names\"\u001b[0m\u001b[1;33m]\u001b[0m \u001b[1;33m=\u001b[0m \u001b[0mkwds\u001b[0m\u001b[1;33m[\u001b[0m\u001b[1;34m\"has_index_names\"\u001b[0m\u001b[1;33m]\u001b[0m\u001b[1;33m\u001b[0m\u001b[1;33m\u001b[0m\u001b[0m\n\u001b[0;32m    810\u001b[0m \u001b[1;33m\u001b[0m\u001b[0m\n\u001b[1;32m--> 811\u001b[1;33m         \u001b[0mself\u001b[0m\u001b[1;33m.\u001b[0m\u001b[0m_engine\u001b[0m \u001b[1;33m=\u001b[0m \u001b[0mself\u001b[0m\u001b[1;33m.\u001b[0m\u001b[0m_make_engine\u001b[0m\u001b[1;33m(\u001b[0m\u001b[0mself\u001b[0m\u001b[1;33m.\u001b[0m\u001b[0mengine\u001b[0m\u001b[1;33m)\u001b[0m\u001b[1;33m\u001b[0m\u001b[1;33m\u001b[0m\u001b[0m\n\u001b[0m\u001b[0;32m    812\u001b[0m \u001b[1;33m\u001b[0m\u001b[0m\n\u001b[0;32m    813\u001b[0m     \u001b[1;32mdef\u001b[0m \u001b[0mclose\u001b[0m\u001b[1;33m(\u001b[0m\u001b[0mself\u001b[0m\u001b[1;33m)\u001b[0m\u001b[1;33m:\u001b[0m\u001b[1;33m\u001b[0m\u001b[1;33m\u001b[0m\u001b[0m\n",
      "\u001b[1;32m~\\anaconda3\\lib\\site-packages\\pandas\\io\\parsers\\readers.py\u001b[0m in \u001b[0;36m_make_engine\u001b[1;34m(self, engine)\u001b[0m\n\u001b[0;32m   1038\u001b[0m             )\n\u001b[0;32m   1039\u001b[0m         \u001b[1;31m# error: Too many arguments for \"ParserBase\"\u001b[0m\u001b[1;33m\u001b[0m\u001b[1;33m\u001b[0m\u001b[0m\n\u001b[1;32m-> 1040\u001b[1;33m         \u001b[1;32mreturn\u001b[0m \u001b[0mmapping\u001b[0m\u001b[1;33m[\u001b[0m\u001b[0mengine\u001b[0m\u001b[1;33m]\u001b[0m\u001b[1;33m(\u001b[0m\u001b[0mself\u001b[0m\u001b[1;33m.\u001b[0m\u001b[0mf\u001b[0m\u001b[1;33m,\u001b[0m \u001b[1;33m**\u001b[0m\u001b[0mself\u001b[0m\u001b[1;33m.\u001b[0m\u001b[0moptions\u001b[0m\u001b[1;33m)\u001b[0m  \u001b[1;31m# type: ignore[call-arg]\u001b[0m\u001b[1;33m\u001b[0m\u001b[1;33m\u001b[0m\u001b[0m\n\u001b[0m\u001b[0;32m   1041\u001b[0m \u001b[1;33m\u001b[0m\u001b[0m\n\u001b[0;32m   1042\u001b[0m     \u001b[1;32mdef\u001b[0m \u001b[0m_failover_to_python\u001b[0m\u001b[1;33m(\u001b[0m\u001b[0mself\u001b[0m\u001b[1;33m)\u001b[0m\u001b[1;33m:\u001b[0m\u001b[1;33m\u001b[0m\u001b[1;33m\u001b[0m\u001b[0m\n",
      "\u001b[1;32m~\\anaconda3\\lib\\site-packages\\pandas\\io\\parsers\\c_parser_wrapper.py\u001b[0m in \u001b[0;36m__init__\u001b[1;34m(self, src, **kwds)\u001b[0m\n\u001b[0;32m     49\u001b[0m \u001b[1;33m\u001b[0m\u001b[0m\n\u001b[0;32m     50\u001b[0m         \u001b[1;31m# open handles\u001b[0m\u001b[1;33m\u001b[0m\u001b[1;33m\u001b[0m\u001b[0m\n\u001b[1;32m---> 51\u001b[1;33m         \u001b[0mself\u001b[0m\u001b[1;33m.\u001b[0m\u001b[0m_open_handles\u001b[0m\u001b[1;33m(\u001b[0m\u001b[0msrc\u001b[0m\u001b[1;33m,\u001b[0m \u001b[0mkwds\u001b[0m\u001b[1;33m)\u001b[0m\u001b[1;33m\u001b[0m\u001b[1;33m\u001b[0m\u001b[0m\n\u001b[0m\u001b[0;32m     52\u001b[0m         \u001b[1;32massert\u001b[0m \u001b[0mself\u001b[0m\u001b[1;33m.\u001b[0m\u001b[0mhandles\u001b[0m \u001b[1;32mis\u001b[0m \u001b[1;32mnot\u001b[0m \u001b[1;32mNone\u001b[0m\u001b[1;33m\u001b[0m\u001b[1;33m\u001b[0m\u001b[0m\n\u001b[0;32m     53\u001b[0m \u001b[1;33m\u001b[0m\u001b[0m\n",
      "\u001b[1;32m~\\anaconda3\\lib\\site-packages\\pandas\\io\\parsers\\base_parser.py\u001b[0m in \u001b[0;36m_open_handles\u001b[1;34m(self, src, kwds)\u001b[0m\n\u001b[0;32m    220\u001b[0m         \u001b[0mLet\u001b[0m \u001b[0mthe\u001b[0m \u001b[0mreaders\u001b[0m \u001b[0mopen\u001b[0m \u001b[0mIOHandles\u001b[0m \u001b[0mafter\u001b[0m \u001b[0mthey\u001b[0m \u001b[0mare\u001b[0m \u001b[0mdone\u001b[0m \u001b[1;32mwith\u001b[0m \u001b[0mtheir\u001b[0m \u001b[0mpotential\u001b[0m \u001b[0mraises\u001b[0m\u001b[1;33m.\u001b[0m\u001b[1;33m\u001b[0m\u001b[1;33m\u001b[0m\u001b[0m\n\u001b[0;32m    221\u001b[0m         \"\"\"\n\u001b[1;32m--> 222\u001b[1;33m         self.handles = get_handle(\n\u001b[0m\u001b[0;32m    223\u001b[0m             \u001b[0msrc\u001b[0m\u001b[1;33m,\u001b[0m\u001b[1;33m\u001b[0m\u001b[1;33m\u001b[0m\u001b[0m\n\u001b[0;32m    224\u001b[0m             \u001b[1;34m\"r\"\u001b[0m\u001b[1;33m,\u001b[0m\u001b[1;33m\u001b[0m\u001b[1;33m\u001b[0m\u001b[0m\n",
      "\u001b[1;32m~\\anaconda3\\lib\\site-packages\\pandas\\io\\common.py\u001b[0m in \u001b[0;36mget_handle\u001b[1;34m(path_or_buf, mode, encoding, compression, memory_map, is_text, errors, storage_options)\u001b[0m\n\u001b[0;32m    700\u001b[0m         \u001b[1;32mif\u001b[0m \u001b[0mioargs\u001b[0m\u001b[1;33m.\u001b[0m\u001b[0mencoding\u001b[0m \u001b[1;32mand\u001b[0m \u001b[1;34m\"b\"\u001b[0m \u001b[1;32mnot\u001b[0m \u001b[1;32min\u001b[0m \u001b[0mioargs\u001b[0m\u001b[1;33m.\u001b[0m\u001b[0mmode\u001b[0m\u001b[1;33m:\u001b[0m\u001b[1;33m\u001b[0m\u001b[1;33m\u001b[0m\u001b[0m\n\u001b[0;32m    701\u001b[0m             \u001b[1;31m# Encoding\u001b[0m\u001b[1;33m\u001b[0m\u001b[1;33m\u001b[0m\u001b[0m\n\u001b[1;32m--> 702\u001b[1;33m             handle = open(\n\u001b[0m\u001b[0;32m    703\u001b[0m                 \u001b[0mhandle\u001b[0m\u001b[1;33m,\u001b[0m\u001b[1;33m\u001b[0m\u001b[1;33m\u001b[0m\u001b[0m\n\u001b[0;32m    704\u001b[0m                 \u001b[0mioargs\u001b[0m\u001b[1;33m.\u001b[0m\u001b[0mmode\u001b[0m\u001b[1;33m,\u001b[0m\u001b[1;33m\u001b[0m\u001b[1;33m\u001b[0m\u001b[0m\n",
      "\u001b[1;31mFileNotFoundError\u001b[0m: [Errno 2] No such file or directory: 'SaO_Optilandia_locations.csv'"
     ]
    }
   ],
   "source": [
    "loc = pd.read_csv('SaO_Optilandia_locations.csv')\n",
    "loc['demand']=round(loc['capacity']-loc['level'],2) ### Calculated the needed Gas by subtracting level from capacity\n",
    "loc.head(8)"
   ]
  },
  {
   "cell_type": "markdown",
   "id": "5859e5b8",
   "metadata": {},
   "source": [
    "#### 2. SaO_Optilandia_lnks.csv - contains linked location Ids\n",
    "* read and convert the csv file to dataframe"
   ]
  },
  {
   "cell_type": "code",
   "execution_count": null,
   "id": "d64ba514",
   "metadata": {
    "scrolled": true
   },
   "outputs": [],
   "source": [
    "links = pd.read_csv('SaO_Optilandia_links.csv')\n",
    "links.head(8)"
   ]
  },
  {
   "cell_type": "markdown",
   "id": "a85f5032",
   "metadata": {},
   "source": [
    "<br/>"
   ]
  },
  {
   "cell_type": "markdown",
   "id": "bbce88ba",
   "metadata": {},
   "source": [
    "#### 3. SaO_Optilandia_depot_lorries.json - contains lorry details for each depot"
   ]
  },
  {
   "cell_type": "code",
   "execution_count": null,
   "id": "687a13fc",
   "metadata": {},
   "outputs": [],
   "source": [
    "lorryd = json.load(open('SaO_Optilandia_depot_lorries.json'))\n",
    "lorryc=[]\n",
    "d_ind=0\n",
    "for i in lorryd.keys():\n",
    "    for j in range(0,len(lorryd[i])):\n",
    "        lorryc.append(pd.DataFrame(lorryd[i][j],index=[d_ind]))\n",
    "        d_ind+=1\n",
    "lorry=pd.concat(lorryc)\n",
    "lorry['depot']=lorry['lorry_id'].apply(lambda x: int(x.split('-')[0]))\n",
    "lorry['stop'] = np.where(lorry['capacity']==5, 4,np.where(lorry['capacity']==12, 8, np.where(lorry['capacity']==22, 16,0)))\n",
    "lorry"
   ]
  },
  {
   "cell_type": "markdown",
   "id": "1f4544bd",
   "metadata": {},
   "source": [
    "### Visualizing all existing nodes for all locations in network"
   ]
  },
  {
   "cell_type": "code",
   "execution_count": null,
   "id": "82f55423",
   "metadata": {
    "scrolled": false
   },
   "outputs": [],
   "source": [
    "# Calculating the Euclidean distance between the coordinates of all the locations\n",
    "xy=loc[['x','y']]\n",
    "eucl_dis= squareform(pdist(xy.values))\n",
    "edges  = [(id1,id2,eucl_dis[id1,id2]) for _,(id1,id2) in links.iterrows()]\n",
    "edgedict = dict([((df.id1, df.id2), eucl_dis[df.id1, df.id2]) for df in links.itertuples()])\n",
    "\n",
    "#Graph\n",
    "g=nx.Graph()\n",
    "g.add_weighted_edges_from(edges)\n",
    "pos= dict([(df.id, (df.x, df.y)) for df in loc.itertuples()])\n",
    "plt.figure(figsize=(20,10))\n",
    "plt.title(\"Optilandia Country Network\",fontsize=20)\n",
    "nx.draw(g,with_labels=False,pos=pos,node_color='g',node_size=50,alpha =0.5)"
   ]
  },
  {
   "cell_type": "markdown",
   "id": "e2d0801c",
   "metadata": {},
   "source": [
    "<br/>"
   ]
  },
  {
   "cell_type": "markdown",
   "id": "def1fe4a",
   "metadata": {},
   "source": [
    "<br/>"
   ]
  },
  {
   "cell_type": "markdown",
   "id": "5df1e7ab",
   "metadata": {},
   "source": [
    "<br/>"
   ]
  },
  {
   "cell_type": "markdown",
   "id": "2b6f80b5",
   "metadata": {},
   "source": [
    "<br/>"
   ]
  },
  {
   "cell_type": "markdown",
   "id": "f3a2bb96",
   "metadata": {},
   "source": [
    "<br/>"
   ]
  },
  {
   "cell_type": "markdown",
   "id": "679c0260",
   "metadata": {},
   "source": [
    "<br/>"
   ]
  },
  {
   "cell_type": "markdown",
   "id": "fa5207ee",
   "metadata": {},
   "source": [
    "<br/>"
   ]
  },
  {
   "cell_type": "markdown",
   "id": "5d72c63b",
   "metadata": {},
   "source": [
    "<br/>"
   ]
  },
  {
   "cell_type": "markdown",
   "id": "1b3f580c",
   "metadata": {},
   "source": [
    "<br/>"
   ]
  },
  {
   "cell_type": "markdown",
   "id": "0d7ae5e7",
   "metadata": {},
   "source": [
    "### Visualizing customer locations and depot locations in that network"
   ]
  },
  {
   "cell_type": "code",
   "execution_count": null,
   "id": "32eb8c91",
   "metadata": {},
   "outputs": [],
   "source": [
    "#Blue - customer nodes, red - depot, green - non-customer nodes\n",
    "\n",
    "cust_loc_ids = [df.id for df in loc.loc[loc.is_customer==True].itertuples()]\n",
    "depot_loc_ids = [df.id for df in loc.loc[loc.is_depot==True].itertuples()]\n",
    "plt.figure(figsize=(20,10))\n",
    "plt.title(\"SaO Gas Ltd- Depot (red) & Customers (blue)\",fontsize=20)\n",
    "nx.draw(g,with_labels=False,pos=pos,node_color='g',node_size=50,alpha=0.5)\n",
    "nx.draw_networkx_nodes(g,pos,nodelist=depot_loc_ids,node_color='r',node_size=600,alpha=1);\n",
    "nx.draw_networkx_labels(g,pos,{k:k for k in depot_loc_ids});\n",
    "nx.draw_networkx_nodes(g,pos,nodelist=cust_loc_ids,node_color='#003ec0',node_size=250,alpha=0.5);"
   ]
  },
  {
   "cell_type": "markdown",
   "id": "33d9b4b8",
   "metadata": {},
   "source": [
    "<br/>"
   ]
  },
  {
   "cell_type": "markdown",
   "id": "ab561d2a",
   "metadata": {},
   "source": [
    "<br/>"
   ]
  },
  {
   "cell_type": "markdown",
   "id": "6a690b1c",
   "metadata": {},
   "source": [
    "<br/>"
   ]
  },
  {
   "cell_type": "markdown",
   "id": "0f97f29d",
   "metadata": {},
   "source": [
    "<br/>"
   ]
  },
  {
   "cell_type": "markdown",
   "id": "6a5453ae",
   "metadata": {},
   "source": [
    "<br/>"
   ]
  },
  {
   "cell_type": "markdown",
   "id": "0d26a54c",
   "metadata": {},
   "source": [
    "<br/>"
   ]
  },
  {
   "cell_type": "markdown",
   "id": "49e789d7",
   "metadata": {},
   "source": [
    "<br/>"
   ]
  },
  {
   "cell_type": "markdown",
   "id": "2b305e0f",
   "metadata": {},
   "source": [
    "<br/>"
   ]
  },
  {
   "cell_type": "markdown",
   "id": "554aca60",
   "metadata": {},
   "source": [
    "<br/>"
   ]
  },
  {
   "cell_type": "markdown",
   "id": "ba10f955",
   "metadata": {},
   "source": [
    "### Dividing Customers into 5 group for 5 Depot\n",
    "#### Distance between every pair of nodes is calculated"
   ]
  },
  {
   "cell_type": "code",
   "execution_count": null,
   "id": "28a860e1",
   "metadata": {},
   "outputs": [],
   "source": [
    "pair_dist=dict(nx.all_pairs_dijkstra_path_length(g))\n",
    "pair_path=dict(nx.all_pairs_dijkstra_path(g))\n",
    "shd_graph=np.array([[pair_dist[i][j] for i in range(len(g.nodes))] for j in range(len(g.nodes))]) "
   ]
  },
  {
   "cell_type": "markdown",
   "id": "976c1722",
   "metadata": {},
   "source": [
    "#### Finding the neraest depot for each node in network"
   ]
  },
  {
   "cell_type": "code",
   "execution_count": null,
   "id": "5ef4a6a8",
   "metadata": {},
   "outputs": [],
   "source": [
    "paths_length,paths_path=nx.multi_source_dijkstra(g,depot_loc_ids)\n",
    "cust_paths=dict()\n",
    "for i in paths_length.keys():             ## Deriving only customer nodes from the data\n",
    "    if i in cust_loc_ids:\n",
    "        cust_paths[i]=(paths_path[i],paths_length[i])"
   ]
  },
  {
   "cell_type": "markdown",
   "id": "ab0fe5c1",
   "metadata": {},
   "source": [
    "#### Derived customer data is seperated for each depot into a dict"
   ]
  },
  {
   "cell_type": "code",
   "execution_count": null,
   "id": "9eb22eb2",
   "metadata": {},
   "outputs": [],
   "source": [
    "depot_dict = {523:[], 127:[], 373:[], 167:[], 124:[]}\n",
    "for i in cust_paths.values():\n",
    "    for j in depot_dict.keys():\n",
    "        if i[0][0]== j:\n",
    "            depot_dict[j].extend(i[0])\n",
    "                    \n",
    "all_523= list(dict.fromkeys(depot_dict[523]))\n",
    "all_127= list(dict.fromkeys(depot_dict[127]))\n",
    "all_373= list(dict.fromkeys(depot_dict[373]))\n",
    "all_167= list(dict.fromkeys(depot_dict[167]))\n",
    "all_124= list(dict.fromkeys(depot_dict[124]))"
   ]
  },
  {
   "cell_type": "markdown",
   "id": "a5cd0241",
   "metadata": {},
   "source": [
    "#### Seperating only customer from the all nodes list to customer only list"
   ]
  },
  {
   "cell_type": "code",
   "execution_count": null,
   "id": "9832c37e",
   "metadata": {},
   "outputs": [],
   "source": [
    "def CustomerOnly(depot, nodes):\n",
    "    cnt=0\n",
    "    custnodes=[]\n",
    "    for i in nodes:\n",
    "        if i in cust_loc_ids:\n",
    "            custnodes.append(i)\n",
    "    return custnodes\n",
    "cust_523= CustomerOnly(523,all_523) ## Input for the algorithms\n",
    "cust_127= CustomerOnly(127,all_127)\n",
    "cust_373= CustomerOnly(373,all_373)\n",
    "cust_167= CustomerOnly(167,all_167)\n",
    "cust_124= CustomerOnly(124,all_124)"
   ]
  },
  {
   "cell_type": "markdown",
   "id": "bd3c6bbc",
   "metadata": {},
   "source": [
    "### Visualizing customer nodes of each depot seperately"
   ]
  },
  {
   "cell_type": "code",
   "execution_count": null,
   "id": "0860dd49",
   "metadata": {},
   "outputs": [],
   "source": [
    "def DepotSubgraph(depot,all_depot):\n",
    "    plt.figure(figsize=(20,10))\n",
    "    plt.margins(0,0)\n",
    "    plt.title(f\"Customers allocated for depot {depot} \",fontsize=18)\n",
    "    nx.draw(g,with_labels=False,pos=pos,node_color='#94bf06',node_size=50,alpha=0.5)\n",
    "    nx.draw_networkx_nodes(g,pos,nodelist=[depot],node_color='r',node_size=400,alpha=1);\n",
    "    nx.draw_networkx_labels(g,pos,{k:k for k in all_depot});\n",
    "    nx.draw_networkx_nodes(g,pos,nodelist={k: k for k in cust_loc_ids if k not in [depot] and k in all_depot},\n",
    "                           node_color='#003ec0',node_size=200,alpha=1);\n",
    "    \n",
    "DepotSubgraph(523,all_523)\n",
    "DepotSubgraph(127,all_127)"
   ]
  },
  {
   "cell_type": "code",
   "execution_count": null,
   "id": "5c611f18",
   "metadata": {
    "scrolled": false
   },
   "outputs": [],
   "source": [
    "DepotSubgraph(373,all_373)\n",
    "DepotSubgraph(167,all_167)\n",
    "DepotSubgraph(124,all_124)"
   ]
  },
  {
   "cell_type": "markdown",
   "id": "2a75b941",
   "metadata": {},
   "source": [
    "<br/>"
   ]
  },
  {
   "cell_type": "markdown",
   "id": "4362354c",
   "metadata": {},
   "source": [
    "<br/>"
   ]
  },
  {
   "cell_type": "markdown",
   "id": "10650ff1",
   "metadata": {},
   "source": [
    "#### Function to make a path for list of customer"
   ]
  },
  {
   "cell_type": "code",
   "execution_count": null,
   "id": "2dbc8c21",
   "metadata": {},
   "outputs": [],
   "source": [
    "def makePathList(depot, sortedCustomers,G):\n",
    "    pathFinal=[depot]\n",
    "    for i in range(len(sortedCustomers)-1):\n",
    "        p=nx.dijkstra_path(G, sortedCustomers[i], sortedCustomers[i+1])\n",
    "        pathFinal.extend(p[1:])\n",
    "    return pathFinal"
   ]
  },
  {
   "cell_type": "code",
   "execution_count": null,
   "id": "d51cdc74",
   "metadata": {},
   "outputs": [],
   "source": [
    "def DepotPathgraph(depot,all_depot,best_path):\n",
    "    g1=g.subgraph(all_depot)\n",
    "    plt.figure(figsize=(20,10))\n",
    "    plt.title(f\"Path for depot {depot} \",fontsize=20)\n",
    "    nx.draw(g1,with_labels=False,pos=pos,node_color='#94bf06',node_size=50,alpha=1)\n",
    "    nx.draw_networkx_nodes(g1,pos,nodelist=[depot],node_color='r',node_size=400,alpha=1);\n",
    "#     nx.draw_networkx_nodes(g1,pos,nodelist=cust_depot,node_color='y',node_size=400,alpha=1);\n",
    "    nx.draw_networkx_labels(g1,pos,{k:k for k in all_depot});\n",
    "    nx.draw_networkx_nodes(g1,pos,nodelist={k: k for k in cust_loc_ids if k not in [depot] and k in all_depot},node_color='#003ec0',node_size=200,alpha=1);\n",
    "    ed=[]\n",
    "    ed.append(list(zip(best_path, best_path[1:])))\n",
    "    for edge in ed:\n",
    "        nx.draw_networkx_edges(g1,pos,edgelist=list(edge),alpha=1,edge_color='r',width=5.0)"
   ]
  },
  {
   "cell_type": "markdown",
   "id": "36fa49b3",
   "metadata": {},
   "source": [
    "<br/>"
   ]
  },
  {
   "cell_type": "markdown",
   "id": "80987794",
   "metadata": {},
   "source": [
    "<br/>"
   ]
  },
  {
   "cell_type": "markdown",
   "id": "afe6751d",
   "metadata": {},
   "source": [
    "## Genetic Algorithm\n",
    "#### Defining a class to represent the VRP problem"
   ]
  },
  {
   "cell_type": "code",
   "execution_count": null,
   "id": "788016f0",
   "metadata": {},
   "outputs": [],
   "source": [
    "class VRP_modules(object):\n",
    "    \n",
    "    def __init__(self,nodes,path_length,fitness):\n",
    "        self.nodes= nodes\n",
    "        self.path_length= path_length\n",
    "        self.fitness= fitness\n",
    "    \n",
    "    def mutation(self, path, prob):   \n",
    "        def inver_mut(path_temp):  ### Inversion Mutation - chose random node in path and swap them\n",
    "            path = path_temp\n",
    "            i = randrange(0,len(path))\n",
    "            j = randrange(i,len(path))\n",
    "            path_mid = path[i:j]\n",
    "            path_mid.reverse()\n",
    "            path_result = path[0:i] + path_mid + path[j:]\n",
    "            return path_result\n",
    "        temp = []\n",
    "        for _ in range(len(path)):\n",
    "            if random.random() < prob :\n",
    "                temp = inver_mut(path)\n",
    "        return temp\n",
    "\n",
    "    def crossover(self,parent1, parent2):\n",
    "        def repeating_co(rep_child1,rep_child2):\n",
    "            count1=0\n",
    "            for gen1 in rep_child1[:pos]:\n",
    "                rep = 0\n",
    "                rep = rep_child1.count(gen1)\n",
    "                if rep > 1:\n",
    "                    count2=0\n",
    "                    for gen2 in parent1[pos:]:\n",
    "                        if gen2 not in rep_child1:\n",
    "                            child1[count1] = parent1[pos:][count2]\n",
    "                        count2+=1\n",
    "                count1+=1\n",
    "            count1=0\n",
    "            for gen1 in rep_child2[:pos]:\n",
    "                rep = 0\n",
    "                rep = rep_child2.count(gen1)\n",
    "                if rep > 1:\n",
    "                    count2=0\n",
    "                    for gen2 in parent2[pos:]:\n",
    "                        if gen2 not in rep_child2:\n",
    "                            child2[count1] = parent2[pos:][count2]\n",
    "                        count2+=1\n",
    "                count1+=1\n",
    "            return [child1,child2]\n",
    "        pos=random.randrange(1,self.path_length-1)\n",
    "        child1 = parent1[:pos] + parent2[pos:] \n",
    "        child2 = parent2[:pos] + parent1[pos:] \n",
    "        return  repeating_co(child1, child2)"
   ]
  },
  {
   "cell_type": "markdown",
   "id": "c36f9da5",
   "metadata": {},
   "source": [
    "#### Function to check the fitness or fitness calculator"
   ]
  },
  {
   "cell_type": "code",
   "execution_count": 46,
   "id": "1ce28f30",
   "metadata": {},
   "outputs": [],
   "source": [
    "def path_fit(cpath):    \n",
    "    path= cpath\n",
    "    fitness = 0\n",
    "    inv_path = 0\n",
    "    for i in path[1:]:\n",
    "        repeat = 0\n",
    "        repeat = path.count(i) \n",
    "        if repeat > 1:\n",
    "            inv_path+= 100 * abs(repeat - len(path))\n",
    "\n",
    "    for i in range(len(path)-2):\n",
    "        fitness= fitness + pair_dist[path[i]][path[i+1]] + inv_path\n",
    "    return fitness"
   ]
  },
  {
   "cell_type": "markdown",
   "id": "f6966373",
   "metadata": {},
   "source": [
    "#### Genetic Algorithm function"
   ]
  },
  {
   "cell_type": "code",
   "execution_count": 47,
   "id": "32123430",
   "metadata": {},
   "outputs": [],
   "source": [
    "def gen_algo(VRP_modules,s_node,k,opt,ngen,size,ratio_cross,prob_mutate,iteration):\n",
    "   \n",
    "    best=[]\n",
    "    def in_pop(VRP_modules,size):   \n",
    "        def generate_path():\n",
    "            path=[]\n",
    "            for i in VRP_modules.nodes:\n",
    "                path.append(i)\n",
    "            random.shuffle(path)\n",
    "            return path\n",
    "        return [generate_path() for _ in range(size)]\n",
    "                    \n",
    "    def new_gen(VRP_modules,k,opt,population,n_parents,n_sel,prob_mutate):\n",
    "        \n",
    "        def tournament_sel(VRP_modules,population,n,k,opt):\n",
    "            winners=[]\n",
    "            for _ in range(n):\n",
    "                sel_path = random.sample(population,k)\n",
    "                winners.append(opt(sel_path,key=VRP_modules.fitness))\n",
    "            return winners\n",
    "        \n",
    "        def crossover1(VRP_modules,parents):\n",
    "            childs=[]\n",
    "            for i in range(0,len(parents),2):\n",
    "                childs.extend(VRP_modules.crossover(parents[i],parents[i+1]))\n",
    "            return childs\n",
    "    \n",
    "        def mutate(VRP_modules,population,prob):\n",
    "            for i in population:\n",
    "                VRP_modules.mutation(i,prob)\n",
    "            return population\n",
    "                        \n",
    "        selected = tournament_sel(VRP_modules, population, n_sel, k, opt)\n",
    "        crosses = crossover1(VRP_modules,\n",
    "                                tournament_sel(VRP_modules, population, n_parents, k, opt))\n",
    "        mutations = mutate(VRP_modules, crosses, prob_mutate)\n",
    "        new_gen1 = selected + mutations\n",
    "        \n",
    "        return new_gen1\n",
    "    \n",
    "    for iteration in range(iteration):    \n",
    "        population = in_pop(VRP_modules, size)\n",
    "        n_parents = round(size*ratio_cross)\n",
    "        n_parents = (n_parents if n_parents%2==0 else n_parents-1)\n",
    "        n_sel = size - n_parents\n",
    "\n",
    "        for _ in range(ngen):\n",
    "            population = new_gen(VRP_modules, k, opt, population, n_parents, n_sel, prob_mutate)\n",
    "\n",
    "\n",
    "        for i in range(size):\n",
    "            l=VRP_modules.path_length\n",
    "            population[i].insert(0,s_node)\n",
    "            population[i].insert(l+1,s_node)\n",
    "\n",
    "\n",
    "        bestPath = opt(population, key = VRP_modules.fitness)\n",
    "        bestfit = VRP_modules.fitness(bestPath)\n",
    "        print(\"Path: \", bestPath)\n",
    "        print (\"Fitness: \" , bestfit)\n",
    "        best.append(bestfit)\n",
    "\n",
    "         ###for final best path after iteration\n",
    "        if iteration == 0:\n",
    "            best_fit_so_far = bestfit\n",
    "            best_path_so_far = bestPath\n",
    "        else:\n",
    "            if bestfit < best_fit_so_far:\n",
    "                best_fit_so_far = bestfit\n",
    "                best_path_so_far = bestPath\n",
    "            else:\n",
    "                if bestfit > best_fit_so_far:\n",
    "                    bestPath = best_path_so_far\n",
    "    \n",
    "    \n",
    "    print(\"Best Path: \", bestPath)\n",
    "    print (\"Best Fitness: \" , VRP_modules.fitness(bestPath))\n",
    "    \n",
    "    return (bestPath,VRP_modules.fitness(bestPath),best)\n",
    "\n"
   ]
  },
  {
   "cell_type": "markdown",
   "id": "ed5b9b31",
   "metadata": {},
   "source": [
    "#### Plot the graph"
   ]
  },
  {
   "cell_type": "code",
   "execution_count": 48,
   "id": "ef622ed7",
   "metadata": {},
   "outputs": [],
   "source": [
    "def plot(best):\n",
    "        \n",
    "    plt.plot(best, '.-')\n",
    "    plt.xlabel('Iteration')\n",
    "    plt.ylabel('Distance/Time Fitness')\n",
    "    plt.title(\"Genetic Algorithm Results for depot-\")\n",
    "    plt.show()"
   ]
  },
  {
   "cell_type": "markdown",
   "id": "fcd0505f",
   "metadata": {},
   "source": [
    "### Main Program\n",
    "#### Each depot calling genetic algorithm to get optimized path"
   ]
  },
  {
   "cell_type": "code",
   "execution_count": 49,
   "id": "8ec551e9",
   "metadata": {
    "scrolled": false
   },
   "outputs": [
    {
     "name": "stdout",
     "output_type": "stream",
     "text": [
      "Path:  [523, 632, 491, 27, 257, 235, 519, 70, 603, 8, 225, 378, 183, 276, 136, 391, 94, 523]\n",
      "Fitness:  27254.04685227219\n",
      "Path:  [523, 136, 603, 391, 276, 70, 519, 491, 632, 27, 183, 235, 378, 225, 257, 94, 8, 523]\n",
      "Fitness:  27381.37364241455\n",
      "Path:  [523, 8, 225, 632, 94, 491, 27, 519, 257, 235, 183, 276, 603, 136, 70, 378, 391, 523]\n",
      "Fitness:  27197.983037648028\n",
      "Path:  [523, 94, 632, 27, 519, 70, 183, 235, 257, 378, 225, 8, 136, 603, 276, 391, 491, 523]\n",
      "Fitness:  27070.126301826956\n",
      "Path:  [523, 94, 632, 491, 519, 378, 603, 276, 391, 235, 257, 183, 225, 8, 70, 27, 136, 523]\n",
      "Fitness:  27430.99556032541\n",
      "Path:  [523, 378, 8, 225, 183, 257, 235, 519, 70, 276, 136, 603, 391, 491, 94, 27, 632, 523]\n",
      "Fitness:  26903.73184315383\n",
      "Path:  [523, 94, 632, 491, 27, 519, 235, 70, 257, 183, 225, 8, 378, 603, 136, 391, 276, 523]\n",
      "Fitness:  26924.553867631523\n",
      "Path:  [523, 8, 225, 257, 27, 70, 276, 391, 136, 603, 519, 491, 632, 94, 235, 183, 378, 523]\n",
      "Fitness:  27071.580185752402\n",
      "Path:  [523, 391, 603, 276, 70, 235, 257, 183, 225, 8, 378, 519, 27, 491, 94, 632, 136, 523]\n",
      "Fitness:  27126.865772467554\n",
      "Path:  [523, 8, 603, 136, 391, 70, 519, 491, 27, 94, 632, 257, 235, 183, 378, 225, 276, 523]\n",
      "Fitness:  27120.226710178336\n",
      "Path:  [523, 70, 276, 136, 391, 519, 27, 491, 94, 632, 257, 183, 235, 225, 8, 378, 603, 523]\n",
      "Fitness:  26938.89313775768\n",
      "Path:  [523, 183, 225, 8, 378, 519, 27, 257, 276, 136, 603, 391, 235, 491, 632, 94, 70, 523]\n",
      "Fitness:  27192.519122695634\n",
      "Path:  [523, 94, 632, 491, 27, 519, 257, 70, 183, 235, 276, 391, 136, 603, 378, 8, 225, 523]\n",
      "Fitness:  27008.984083253614\n",
      "Path:  [523, 632, 27, 491, 519, 603, 136, 391, 257, 183, 235, 225, 378, 8, 70, 276, 94, 523]\n",
      "Fitness:  27369.691019494345\n",
      "Path:  [523, 378, 8, 225, 136, 391, 603, 276, 257, 235, 519, 70, 491, 27, 94, 632, 183, 523]\n",
      "Fitness:  27005.236415491156\n",
      "Path:  [523, 94, 632, 27, 491, 391, 519, 257, 235, 8, 225, 378, 183, 70, 276, 603, 136, 523]\n",
      "Fitness:  26984.33372941382\n",
      "Path:  [523, 491, 27, 519, 235, 183, 8, 225, 378, 136, 603, 276, 70, 257, 632, 94, 391, 523]\n",
      "Fitness:  27097.810568238714\n",
      "Path:  [523, 136, 603, 276, 70, 519, 225, 8, 378, 257, 235, 632, 94, 491, 27, 183, 391, 523]\n",
      "Fitness:  27155.054883424167\n",
      "Path:  [523, 378, 8, 225, 183, 632, 491, 27, 276, 70, 519, 235, 257, 391, 603, 136, 94, 523]\n",
      "Fitness:  27310.142254101578\n",
      "Path:  [523, 632, 27, 257, 183, 70, 491, 519, 235, 378, 225, 8, 276, 603, 391, 136, 94, 523]\n",
      "Fitness:  27385.30946298888\n",
      "Best Path:  [523, 378, 8, 225, 183, 257, 235, 519, 70, 276, 136, 603, 391, 491, 94, 27, 632, 523]\n",
      "Best Fitness:  26903.73184315383\n"
     ]
    },
    {
     "data": {
      "image/png": "[encoded data removed]",
      "text/plain": [
       "<Figure size 432x288 with 1 Axes>"
      ]
     },
     "metadata": {
      "needs_background": "light"
     },
     "output_type": "display_data"
    }
   ],
   "source": [
    "# MAIN PROGRAM for Depot 523\n",
    "Depot_523 = VRP_modules(cust_523,len(cust_523),lambda x: path_fit(x))\n",
    "path,distance,best = gen_algo(Depot_523,523, 2, min, 500, 100, 0.8, 0.05,20)\n",
    "final_path_523=path\n",
    "plot(best)"
   ]
  },
  {
   "cell_type": "code",
   "execution_count": 50,
   "id": "2795f8c0",
   "metadata": {},
   "outputs": [
    {
     "name": "stdout",
     "output_type": "stream",
     "text": [
      "Path:  [127, 265, 380, 387, 77, 534, 308, 5, 113, 624, 585, 255, 82, 628, 550, 146, 584, 511, 65, 41, 612, 31, 398, 243, 127]\n",
      "Fitness:  56778.174175422755\n",
      "Path:  [127, 77, 387, 624, 585, 82, 612, 255, 398, 146, 265, 511, 113, 65, 534, 628, 550, 5, 308, 243, 584, 31, 380, 41, 127]\n",
      "Fitness:  56997.78526490385\n",
      "Path:  [127, 41, 398, 265, 31, 380, 584, 255, 5, 113, 387, 82, 628, 612, 585, 511, 550, 65, 77, 534, 308, 624, 146, 243, 127]\n",
      "Fitness:  56882.03584978957\n",
      "Path:  [127, 628, 398, 243, 31, 265, 511, 584, 380, 146, 255, 585, 308, 41, 387, 113, 5, 624, 550, 82, 65, 534, 77, 612, 127]\n",
      "Fitness:  56382.64114941829\n",
      "Path:  [127, 77, 41, 534, 387, 65, 628, 585, 255, 550, 308, 584, 380, 5, 113, 624, 146, 243, 265, 31, 398, 82, 612, 511, 127]\n",
      "Fitness:  56305.954195167906\n",
      "Path:  [127, 243, 31, 380, 398, 82, 585, 624, 5, 113, 511, 265, 584, 77, 41, 534, 308, 65, 387, 550, 146, 255, 628, 612, 127]\n",
      "Fitness:  56088.90942551921\n",
      "Path:  [127, 77, 113, 5, 628, 612, 82, 585, 255, 584, 511, 624, 265, 31, 398, 550, 243, 380, 146, 308, 387, 65, 41, 534, 127]\n",
      "Fitness:  56378.72715839074\n",
      "Path:  [127, 612, 550, 624, 146, 398, 584, 511, 265, 243, 380, 113, 534, 77, 41, 387, 308, 5, 585, 82, 255, 65, 628, 31, 127]\n",
      "Fitness:  56420.87786227729\n",
      "Path:  [127, 612, 82, 255, 585, 5, 308, 534, 113, 398, 265, 243, 380, 511, 65, 41, 584, 31, 550, 624, 146, 387, 77, 628, 127]\n",
      "Fitness:  56545.73507002194\n",
      "Path:  [127, 41, 612, 585, 146, 550, 113, 511, 265, 243, 31, 380, 624, 308, 584, 77, 65, 387, 534, 398, 255, 628, 82, 5, 127]\n",
      "Fitness:  56863.665355207086\n",
      "Path:  [127, 31, 265, 243, 5, 624, 146, 398, 585, 628, 82, 612, 113, 534, 77, 308, 387, 65, 550, 255, 511, 380, 584, 41, 127]\n",
      "Fitness:  56304.5805053702\n",
      "Path:  [127, 41, 534, 5, 624, 550, 398, 146, 65, 387, 380, 265, 255, 628, 612, 82, 585, 113, 584, 243, 31, 511, 308, 77, 127]\n",
      "Fitness:  56264.071978798704\n",
      "Path:  [127, 41, 624, 146, 550, 398, 265, 31, 243, 380, 584, 511, 387, 82, 612, 255, 585, 113, 5, 308, 65, 77, 534, 628, 127]\n",
      "Fitness:  56169.08793132365\n",
      "Path:  [127, 255, 585, 628, 612, 82, 550, 146, 398, 265, 31, 511, 584, 41, 308, 113, 5, 65, 534, 387, 380, 243, 624, 77, 127]\n",
      "Fitness:  55952.463646598575\n",
      "Path:  [127, 77, 534, 41, 65, 387, 550, 308, 584, 398, 146, 113, 5, 612, 82, 628, 255, 585, 511, 31, 265, 243, 380, 624, 127]\n",
      "Fitness:  56017.6034424196\n",
      "Path:  [127, 628, 65, 77, 534, 41, 387, 398, 243, 511, 380, 265, 31, 584, 146, 550, 5, 308, 113, 585, 612, 82, 255, 624, 127]\n",
      "Fitness:  55989.47394732947\n",
      "Path:  [127, 82, 612, 550, 113, 5, 387, 398, 243, 31, 265, 585, 255, 511, 584, 380, 624, 146, 628, 308, 77, 41, 534, 65, 127]\n",
      "Fitness:  56338.375198948066\n",
      "Path:  [127, 511, 584, 243, 31, 265, 380, 398, 585, 550, 624, 146, 113, 308, 534, 41, 65, 5, 255, 82, 612, 628, 387, 77, 127]\n",
      "Fitness:  55803.46344958307\n",
      "Path:  [127, 77, 113, 5, 624, 398, 380, 243, 31, 265, 41, 534, 387, 65, 612, 82, 628, 585, 550, 308, 584, 511, 146, 255, 127]\n",
      "Fitness:  56231.742858226055\n",
      "Path:  [127, 146, 398, 31, 511, 82, 628, 612, 5, 624, 113, 534, 41, 65, 255, 585, 550, 584, 380, 243, 265, 308, 387, 77, 127]\n",
      "Fitness:  56241.439938798125\n",
      "Best Path:  [127, 511, 584, 243, 31, 265, 380, 398, 585, 550, 624, 146, 113, 308, 534, 41, 65, 5, 255, 82, 612, 628, 387, 77, 127]\n",
      "Best Fitness:  55803.46344958307\n"
     ]
    },
    {
     "data": {
      "image/png": "[encoded data removed]",
      "text/plain": [
       "<Figure size 432x288 with 1 Axes>"
      ]
     },
     "metadata": {
      "needs_background": "light"
     },
     "output_type": "display_data"
    }
   ],
   "source": [
    "# MAIN PROGRAM for Depot 127\n",
    "Depot_127 = VRP_modules(cust_127, len(cust_127), lambda x: path_fit(x))\n",
    "path,distance,best = gen_algo(Depot_127,127, 2, min, 500, 100, 0.8, 0.05,20)\n",
    "final_path_127=path\n",
    "plot(best)"
   ]
  },
  {
   "cell_type": "code",
   "execution_count": 51,
   "id": "deab5722",
   "metadata": {},
   "outputs": [
    {
     "name": "stdout",
     "output_type": "stream",
     "text": [
      "Path:  [373, 474, 543, 389, 270, 337, 103, 216, 100, 180, 200, 431, 455, 135, 144, 22, 190, 497, 531, 29, 332, 13, 547, 377, 78, 205, 364, 520, 86, 172, 294, 373]\n",
      "Fitness:  94461.13738292315\n",
      "Path:  [373, 543, 103, 431, 13, 78, 270, 497, 474, 190, 22, 455, 294, 135, 144, 100, 520, 205, 364, 547, 200, 377, 332, 389, 172, 531, 29, 180, 337, 86, 216, 373]\n",
      "Fitness:  93997.4209886479\n",
      "Path:  [373, 377, 547, 205, 103, 337, 180, 86, 29, 543, 531, 172, 389, 520, 497, 22, 144, 135, 13, 455, 294, 270, 100, 190, 364, 216, 78, 431, 332, 200, 474, 373]\n",
      "Fitness:  94964.86102704408\n",
      "Path:  [373, 270, 13, 86, 332, 389, 543, 29, 531, 172, 377, 205, 216, 78, 455, 294, 135, 22, 144, 190, 200, 497, 474, 180, 337, 103, 520, 100, 431, 547, 364, 373]\n",
      "Fitness:  93791.58892147856\n",
      "Path:  [373, 135, 455, 216, 364, 205, 103, 78, 431, 377, 270, 337, 547, 86, 531, 29, 389, 520, 474, 294, 200, 180, 100, 13, 332, 172, 497, 144, 190, 22, 543, 373]\n",
      "Fitness:  94465.99710162895\n",
      "Path:  [373, 22, 543, 497, 431, 547, 13, 200, 180, 377, 337, 270, 100, 531, 86, 332, 389, 29, 172, 190, 294, 474, 520, 78, 103, 135, 144, 455, 364, 205, 216, 373]\n",
      "Fitness:  94314.59475754999\n",
      "Path:  [373, 216, 205, 103, 78, 180, 377, 86, 172, 332, 389, 29, 531, 547, 135, 497, 474, 190, 100, 337, 270, 13, 543, 520, 364, 431, 200, 455, 144, 294, 22, 373]\n",
      "Fitness:  94428.09849234145\n",
      "Path:  [373, 474, 497, 144, 294, 455, 520, 547, 100, 190, 22, 135, 364, 205, 103, 337, 13, 172, 531, 543, 431, 78, 377, 200, 180, 332, 86, 29, 270, 389, 216, 373]\n",
      "Fitness:  94346.1289101914\n",
      "Path:  [373, 100, 497, 13, 337, 200, 547, 135, 190, 455, 294, 144, 22, 474, 531, 29, 180, 103, 205, 216, 270, 431, 78, 364, 520, 172, 543, 377, 332, 86, 389, 373]\n",
      "Fitness:  94527.87532805146\n",
      "Path:  [373, 294, 543, 332, 377, 200, 547, 180, 100, 497, 431, 103, 13, 389, 29, 531, 474, 22, 190, 520, 270, 172, 86, 364, 78, 205, 216, 135, 144, 337, 455, 373]\n",
      "Fitness:  95131.1704282045\n",
      "Path:  [373, 216, 364, 547, 103, 180, 270, 135, 22, 190, 497, 474, 431, 377, 531, 29, 78, 520, 205, 100, 294, 455, 13, 332, 86, 389, 337, 200, 543, 172, 144, 373]\n",
      "Fitness:  94972.04464197757\n",
      "Path:  [373, 377, 364, 103, 78, 520, 100, 190, 135, 294, 455, 180, 200, 431, 270, 337, 86, 389, 531, 29, 13, 144, 22, 474, 497, 543, 172, 332, 205, 547, 216, 373]\n",
      "Fitness:  94058.61895746643\n",
      "Path:  [373, 172, 332, 13, 337, 180, 100, 78, 364, 205, 200, 474, 520, 103, 216, 547, 377, 389, 270, 86, 29, 531, 543, 497, 431, 455, 22, 144, 190, 135, 294, 373]\n",
      "Fitness:  94164.21390135768\n",
      "Path:  [373, 497, 455, 520, 270, 78, 364, 205, 216, 431, 13, 103, 29, 172, 180, 337, 377, 200, 547, 332, 86, 389, 531, 474, 22, 190, 100, 294, 135, 144, 543, 373]\n",
      "Fitness:  94178.69712624977\n",
      "Path:  [373, 547, 78, 455, 22, 190, 135, 144, 216, 103, 431, 270, 172, 531, 13, 377, 200, 520, 337, 389, 86, 332, 29, 100, 294, 497, 474, 364, 205, 180, 543, 373]\n",
      "Fitness:  94237.39963139484\n",
      "Path:  [373, 216, 78, 100, 22, 144, 135, 190, 103, 431, 172, 29, 531, 455, 294, 520, 364, 205, 86, 332, 13, 389, 377, 547, 337, 180, 200, 270, 497, 543, 474, 373]\n",
      "Fitness:  94246.02581167562\n",
      "Path:  [373, 547, 377, 497, 100, 144, 474, 543, 332, 389, 172, 531, 29, 270, 180, 200, 337, 520, 431, 205, 78, 364, 216, 103, 455, 294, 135, 13, 190, 22, 86, 373]\n",
      "Fitness:  94577.3888408619\n",
      "Path:  [373, 135, 455, 216, 205, 431, 377, 337, 180, 547, 200, 86, 13, 270, 103, 144, 294, 22, 531, 29, 389, 332, 172, 543, 474, 520, 78, 364, 190, 100, 497, 373]\n",
      "Fitness:  94470.70008050956\n",
      "Path:  [373, 135, 294, 455, 190, 22, 497, 520, 377, 180, 200, 547, 103, 78, 270, 13, 332, 86, 337, 431, 100, 144, 474, 531, 543, 172, 29, 205, 364, 216, 389, 373]\n",
      "Fitness:  94452.40014241595\n",
      "Path:  [373, 543, 474, 497, 190, 294, 100, 431, 78, 103, 337, 377, 547, 200, 332, 520, 180, 270, 13, 172, 86, 389, 531, 29, 216, 22, 144, 455, 364, 205, 135, 373]\n",
      "Fitness:  94184.48888363446\n",
      "Best Path:  [373, 270, 13, 86, 332, 389, 543, 29, 531, 172, 377, 205, 216, 78, 455, 294, 135, 22, 144, 190, 200, 497, 474, 180, 337, 103, 520, 100, 431, 547, 364, 373]\n",
      "Best Fitness:  93791.58892147856\n"
     ]
    },
    {
     "data": {
      "image/png": "[encoded data removed]",
      "text/plain": [
       "<Figure size 432x288 with 1 Axes>"
      ]
     },
     "metadata": {
      "needs_background": "light"
     },
     "output_type": "display_data"
    }
   ],
   "source": [
    "# MAIN PROGRAM for Depot 373\n",
    "Depot_373 = VRP_modules(cust_373, len(cust_373), lambda x: path_fit(x))\n",
    "path,distance,best = gen_algo(Depot_373,373, 2, min, 500, 100, 0.8, 0.05,20)\n",
    "final_path_373=path\n",
    "plot(best)"
   ]
  },
  {
   "cell_type": "code",
   "execution_count": 52,
   "id": "038ffc12",
   "metadata": {},
   "outputs": [
    {
     "name": "stdout",
     "output_type": "stream",
     "text": [
      "Path:  [124, 542, 14, 177, 362, 372, 254, 206, 633, 36, 147, 171, 397, 220, 539, 507, 63, 130, 449, 160, 264, 260, 245, 476, 175, 400, 204, 411, 202, 446, 374, 566, 408, 169, 118, 324, 418, 606, 124]\n",
      "Fitness:  143327.41654915843\n",
      "Path:  [124, 160, 446, 542, 14, 254, 372, 264, 206, 171, 147, 418, 220, 476, 245, 202, 400, 63, 130, 397, 539, 449, 566, 411, 204, 408, 118, 362, 324, 169, 36, 260, 374, 175, 633, 177, 606, 507, 124]\n",
      "Fitness:  142359.53464857923\n",
      "Path:  [124, 539, 633, 245, 449, 63, 130, 400, 374, 476, 264, 324, 169, 372, 397, 220, 175, 566, 446, 408, 177, 606, 362, 260, 411, 507, 36, 171, 542, 204, 418, 160, 147, 254, 206, 14, 118, 202, 124]\n",
      "Fitness:  142600.76017294652\n",
      "Path:  [124, 411, 507, 566, 449, 14, 418, 476, 245, 202, 254, 372, 36, 542, 539, 260, 633, 400, 160, 63, 374, 175, 446, 220, 264, 169, 397, 147, 171, 204, 324, 177, 118, 408, 206, 606, 362, 130, 124]\n",
      "Fitness:  142829.19743891148\n",
      "Path:  [124, 202, 175, 400, 507, 36, 542, 14, 204, 476, 446, 539, 63, 130, 374, 160, 245, 449, 418, 397, 254, 220, 411, 566, 260, 633, 118, 171, 264, 147, 206, 169, 177, 362, 606, 324, 372, 408, 124]\n",
      "Fitness:  141977.1480573371\n",
      "Path:  [124, 633, 449, 245, 476, 130, 507, 372, 264, 36, 408, 169, 397, 418, 160, 204, 566, 400, 175, 374, 260, 220, 63, 539, 411, 206, 202, 118, 362, 177, 254, 171, 446, 147, 542, 324, 606, 14, 124]\n",
      "Fitness:  143650.07154999534\n",
      "Path:  [124, 408, 169, 14, 204, 411, 539, 633, 542, 397, 171, 372, 362, 324, 177, 118, 206, 160, 63, 202, 446, 260, 264, 220, 566, 400, 245, 147, 476, 254, 36, 507, 130, 449, 374, 175, 418, 606, 124]\n",
      "Fitness:  143164.06515960683\n",
      "Path:  [124, 63, 507, 408, 362, 324, 606, 118, 169, 147, 36, 160, 14, 254, 264, 171, 397, 220, 566, 130, 539, 204, 411, 633, 260, 446, 418, 542, 476, 449, 400, 245, 374, 202, 206, 372, 177, 175, 124]\n",
      "Fitness:  143099.64397166486\n",
      "Path:  [124, 408, 418, 160, 202, 400, 374, 566, 63, 446, 220, 204, 542, 245, 130, 507, 411, 206, 169, 175, 171, 372, 324, 36, 397, 476, 147, 254, 264, 177, 606, 118, 539, 449, 633, 260, 14, 362, 124]\n",
      "Fitness:  142957.91505139516\n",
      "Path:  [124, 566, 374, 245, 633, 539, 446, 202, 160, 418, 206, 254, 147, 397, 264, 169, 14, 542, 204, 507, 411, 476, 260, 36, 408, 362, 118, 177, 171, 324, 372, 220, 449, 63, 130, 175, 400, 606, 124]\n",
      "Fitness:  142126.52888112943\n",
      "Path:  [124, 418, 476, 63, 507, 206, 171, 147, 264, 324, 362, 372, 542, 539, 449, 633, 260, 374, 400, 175, 446, 220, 254, 14, 36, 408, 118, 177, 397, 202, 160, 245, 130, 411, 204, 169, 606, 566, 124]\n",
      "Fitness:  142654.00974759684\n",
      "Path:  [124, 539, 449, 160, 446, 36, 206, 147, 418, 202, 400, 633, 411, 204, 542, 260, 14, 372, 118, 177, 362, 264, 175, 63, 507, 566, 130, 245, 476, 397, 169, 408, 606, 220, 171, 254, 324, 374, 124]\n",
      "Fitness:  143404.71304983494\n",
      "Path:  [124, 542, 539, 449, 63, 566, 130, 175, 446, 260, 633, 220, 418, 372, 408, 254, 245, 476, 374, 400, 171, 264, 147, 36, 204, 206, 118, 177, 14, 202, 160, 397, 411, 507, 362, 606, 169, 324, 124]\n",
      "Fitness:  142525.35745344244\n",
      "Path:  [124, 324, 372, 169, 147, 202, 175, 400, 539, 449, 397, 542, 14, 204, 411, 220, 476, 254, 606, 408, 177, 507, 260, 566, 633, 36, 118, 362, 171, 264, 206, 374, 446, 418, 160, 130, 245, 63, 124]\n",
      "Fitness:  142910.67207420612\n",
      "Path:  [124, 63, 539, 408, 147, 169, 324, 177, 362, 606, 264, 372, 254, 397, 36, 171, 220, 245, 449, 202, 14, 418, 566, 175, 476, 206, 542, 633, 260, 204, 118, 411, 446, 130, 400, 374, 160, 507, 124]\n",
      "Fitness:  143155.03700211033\n",
      "Path:  [124, 539, 260, 449, 400, 130, 566, 411, 507, 147, 418, 118, 177, 324, 36, 264, 446, 245, 175, 63, 160, 476, 542, 206, 14, 408, 254, 397, 204, 169, 372, 606, 362, 220, 374, 202, 633, 171, 124]\n",
      "Fitness:  143194.85756128226\n",
      "Path:  [124, 507, 566, 160, 202, 446, 418, 147, 171, 177, 408, 372, 14, 260, 411, 542, 374, 175, 400, 63, 204, 36, 206, 118, 324, 633, 539, 220, 254, 397, 476, 449, 245, 130, 169, 606, 362, 264, 124]\n",
      "Fitness:  143183.90240190533\n",
      "Path:  [124, 260, 539, 446, 418, 397, 147, 254, 169, 372, 264, 36, 14, 411, 204, 171, 220, 476, 542, 507, 566, 400, 130, 175, 374, 245, 160, 408, 177, 324, 362, 606, 118, 633, 449, 63, 202, 206, 124]\n",
      "Fitness:  142038.30763758102\n",
      "Path:  [124, 130, 260, 411, 507, 374, 446, 202, 372, 254, 147, 204, 14, 206, 171, 264, 169, 418, 220, 566, 476, 118, 606, 362, 177, 245, 633, 63, 400, 160, 449, 539, 408, 397, 36, 542, 324, 175, 124]\n",
      "Fitness:  143550.29185721738\n",
      "Path:  [124, 400, 446, 160, 202, 374, 245, 449, 539, 36, 372, 177, 397, 147, 264, 254, 260, 507, 171, 118, 362, 411, 63, 418, 476, 566, 130, 175, 206, 408, 204, 14, 169, 324, 606, 542, 220, 633, 124]\n",
      "Fitness:  143394.4755249649\n",
      "Best Path:  [124, 202, 175, 400, 507, 36, 542, 14, 204, 476, 446, 539, 63, 130, 374, 160, 245, 449, 418, 397, 254, 220, 411, 566, 260, 633, 118, 171, 264, 147, 206, 169, 177, 362, 606, 324, 372, 408, 124]\n",
      "Best Fitness:  141977.1480573371\n"
     ]
    },
    {
     "data": {
      "image/png": "[encoded data removed]",
      "text/plain": [
       "<Figure size 432x288 with 1 Axes>"
      ]
     },
     "metadata": {
      "needs_background": "light"
     },
     "output_type": "display_data"
    }
   ],
   "source": [
    "# MAIN PROGRAM for Depot 124\n",
    "Depot_124 = VRP_modules(cust_124, len(cust_124), lambda x: path_fit(x))\n",
    "path,distance,best = gen_algo(Depot_124,124, 2, min, 500, 100, 0.8, 0.05,20)\n",
    "final_path_124=path\n",
    "plot(best)"
   ]
  },
  {
   "cell_type": "code",
   "execution_count": 53,
   "id": "f52f9d49",
   "metadata": {},
   "outputs": [
    {
     "name": "stdout",
     "output_type": "stream",
     "text": [
      "Path:  [167, 64, 210, 105, 214, 598, 44, 569, 271, 453, 621, 110, 73, 437, 528, 459, 80, 274, 393, 32, 167]\n",
      "Fitness:  38683.00219872458\n",
      "Path:  [167, 210, 105, 32, 73, 64, 459, 528, 437, 598, 453, 621, 271, 569, 393, 274, 80, 110, 44, 214, 167]\n",
      "Fitness:  38467.32600149962\n",
      "Path:  [167, 44, 393, 569, 274, 80, 598, 214, 110, 64, 32, 105, 210, 459, 437, 528, 621, 453, 271, 73, 167]\n",
      "Fitness:  38478.226354029575\n",
      "Path:  [167, 214, 105, 210, 64, 437, 528, 459, 32, 73, 621, 110, 598, 80, 271, 274, 393, 569, 44, 453, 167]\n",
      "Fitness:  38394.8846275592\n",
      "Path:  [167, 32, 105, 210, 598, 110, 274, 393, 44, 569, 271, 453, 621, 73, 64, 80, 528, 437, 459, 214, 167]\n",
      "Fitness:  38332.91483647759\n",
      "Path:  [167, 44, 393, 274, 598, 528, 621, 110, 64, 459, 437, 73, 32, 214, 80, 453, 271, 105, 210, 569, 167]\n",
      "Fitness:  38830.51255346008\n",
      "Path:  [167, 44, 393, 274, 598, 214, 80, 528, 459, 437, 271, 453, 621, 569, 210, 105, 73, 64, 32, 110, 167]\n",
      "Fitness:  38683.50186715604\n",
      "Path:  [167, 453, 80, 528, 437, 32, 64, 210, 598, 271, 274, 569, 44, 393, 621, 110, 214, 459, 73, 105, 167]\n",
      "Fitness:  38694.11657544915\n",
      "Path:  [167, 73, 32, 64, 453, 569, 44, 393, 274, 271, 621, 598, 80, 459, 528, 437, 210, 214, 105, 110, 167]\n",
      "Fitness:  38490.23900852479\n",
      "Path:  [167, 210, 105, 73, 528, 80, 598, 621, 453, 271, 44, 393, 569, 274, 110, 437, 459, 64, 32, 214, 167]\n",
      "Fitness:  38333.815746115775\n",
      "Path:  [167, 528, 210, 105, 214, 110, 598, 274, 621, 453, 271, 393, 44, 73, 32, 459, 437, 64, 80, 569, 167]\n",
      "Fitness:  38600.19567594214\n",
      "Path:  [167, 214, 110, 459, 528, 453, 44, 274, 621, 271, 569, 393, 598, 210, 105, 64, 80, 437, 73, 32, 167]\n",
      "Fitness:  38377.38286711201\n",
      "Path:  [167, 44, 393, 569, 274, 621, 453, 271, 105, 210, 598, 73, 64, 80, 528, 437, 459, 110, 214, 32, 167]\n",
      "Fitness:  38366.108239673296\n",
      "Path:  [167, 214, 110, 80, 459, 437, 73, 32, 64, 105, 210, 598, 453, 271, 621, 44, 393, 569, 274, 528, 167]\n",
      "Fitness:  38088.319738520375\n",
      "Path:  [167, 274, 453, 621, 271, 110, 598, 64, 459, 528, 437, 73, 32, 210, 214, 80, 393, 44, 569, 105, 167]\n",
      "Fitness:  38479.96526841605\n",
      "Path:  [167, 44, 393, 569, 274, 271, 110, 64, 73, 32, 210, 105, 214, 80, 621, 453, 598, 459, 437, 528, 167]\n",
      "Fitness:  38238.82556587658\n",
      "Path:  [167, 110, 274, 621, 271, 453, 44, 393, 569, 73, 64, 459, 214, 210, 105, 598, 80, 437, 528, 32, 167]\n",
      "Fitness:  38463.99891017666\n",
      "Path:  [167, 214, 80, 32, 64, 459, 437, 271, 453, 598, 274, 44, 569, 393, 110, 210, 105, 73, 528, 621, 167]\n",
      "Fitness:  38638.745177918456\n",
      "Path:  [167, 44, 569, 393, 274, 110, 80, 453, 621, 598, 105, 210, 64, 73, 32, 437, 459, 528, 214, 271, 167]\n",
      "Fitness:  38452.71948001274\n",
      "Path:  [167, 73, 32, 64, 105, 598, 214, 437, 528, 459, 80, 453, 271, 621, 110, 210, 569, 393, 44, 274, 167]\n",
      "Fitness:  38481.83416352957\n",
      "Best Path:  [167, 214, 110, 80, 459, 437, 73, 32, 64, 105, 210, 598, 453, 271, 621, 44, 393, 569, 274, 528, 167]\n",
      "Best Fitness:  38088.319738520375\n"
     ]
    },
    {
     "data": {
      "image/png": "[encoded data removed]",
      "text/plain": [
       "<Figure size 432x288 with 1 Axes>"
      ]
     },
     "metadata": {
      "needs_background": "light"
     },
     "output_type": "display_data"
    }
   ],
   "source": [
    "# MAIN PROGRAM for Depot 167\n",
    "Depot_167 = VRP_modules(cust_167, len(cust_167), lambda x: path_fit(x))\n",
    "path,distance,best = gen_algo(Depot_167,167, 2, min, 500, 100, 0.8, 0.05,20)\n",
    "final_path_167=path\n",
    "plot(best)"
   ]
  },
  {
   "cell_type": "markdown",
   "id": "64f89939",
   "metadata": {},
   "source": [
    "#### Path Divider function divides the path from each depot into 5 paths as per vehicle capacity and customer demand"
   ]
  },
  {
   "cell_type": "code",
   "execution_count": 54,
   "id": "507846ea",
   "metadata": {},
   "outputs": [],
   "source": [
    "def path_divider(path,veh_cap,cust_dem,depot):\n",
    "    z=depot\n",
    "    all_path=[]\n",
    "    all_cust_dem=[]\n",
    "    for key in veh_cap:\n",
    "        v_cap = veh_cap[key]\n",
    "        c_dem = 0\n",
    "        path1=[]\n",
    "        all_cust_dem1=[]\n",
    "        path1.append(z)\n",
    "        all_cust_dem1.append((z,v_cap))\n",
    "        for i in path:\n",
    "            if i == z:\n",
    "                continue\n",
    "            c_dem+=cust_dem[i]\n",
    "            if c_dem <= v_cap:\n",
    "                path1.append(i)\n",
    "                r_cap=-1*(cust_dem[i])\n",
    "                all_cust_dem1.append((i,r_cap))\n",
    "        path1.append(z)\n",
    "        all_cust_dem1.append((z,0))\n",
    "        with_lorryid=[key,all_cust_dem1]\n",
    "        Lorry_key=[\"lorry_id\",\"loc\"]\n",
    "        all_cust_dem_dict = dict(zip(Lorry_key, with_lorryid))\n",
    "        all_path.append(path1)\n",
    "        all_cust_dem.append(all_cust_dem_dict)\n",
    "        for a in path1:\n",
    "            if a in path:\n",
    "                path.remove(a)\n",
    "    return(all_path,all_cust_dem)"
   ]
  },
  {
   "cell_type": "markdown",
   "id": "fd9d6245",
   "metadata": {},
   "source": [
    "#### Preparing data from data frame for path dividing"
   ]
  },
  {
   "cell_type": "code",
   "execution_count": 55,
   "id": "00ace5e5",
   "metadata": {
    "scrolled": false
   },
   "outputs": [],
   "source": [
    "veh_523 = lorry.loc[lorry[\"depot\"] == 523]\n",
    "veh_cap_523 = dict(zip(veh_523.lorry_id, veh_523.capacity)) \n",
    "veh_127 = lorry.loc[lorry[\"depot\"] == 127]\n",
    "veh_cap_127 = dict(zip(veh_127.lorry_id, veh_127.capacity)) \n",
    "veh_373 = lorry.loc[lorry[\"depot\"] == 373]\n",
    "veh_cap_373 = dict(zip(veh_373.lorry_id, veh_373.capacity)) \n",
    "veh_167 = lorry.loc[lorry[\"depot\"] == 167]\n",
    "veh_cap_167 = dict(zip(veh_167.lorry_id, veh_167.capacity)) \n",
    "veh_124 = lorry.loc[lorry[\"depot\"] == 124]\n",
    "veh_cap_124 = dict(zip(veh_124.lorry_id, veh_124.capacity)) \n",
    "\n",
    "loc1 = loc.loc[(loc[\"is_depot\"] == True) | (loc[\"is_customer\"] == True)]\n",
    "loc1 = loc1.drop(columns=[\"x\",\"y\",\"is_depot\", \"is_customer\", \"capacity\",\"level\"])\n",
    "\n",
    "cust_dem_523 = loc1[loc1['id'].isin(cust_523)]\n",
    "cust_dem_523 = cust_dem_523.to_dict()\n",
    "it = iter(cust_dem_523.values())    \n",
    "first, cust_dem_523 = next(it), next(it)   \n",
    "\n",
    "cust_dem_127 = loc1[loc1['id'].isin(cust_127)]\n",
    "cust_dem_127 = cust_dem_127.to_dict()\n",
    "it = iter(cust_dem_127.values())    \n",
    "first, cust_dem_127 = next(it), next(it)  \n",
    "\n",
    "cust_dem_373 = loc1[loc1['id'].isin(cust_373)]\n",
    "cust_dem_373 = cust_dem_373.to_dict()\n",
    "it = iter(cust_dem_373.values())    \n",
    "first, cust_dem_373 = next(it), next(it) \n",
    "\n",
    "cust_dem_167 = loc1[loc1['id'].isin(cust_167)]\n",
    "cust_dem_167 = cust_dem_167.to_dict()\n",
    "it = iter(cust_dem_167.values())    \n",
    "first, cust_dem_167 = next(it), next(it)\n",
    "\n",
    "cust_dem_124 = loc1[loc1['id'].isin(cust_124)]\n",
    "cust_dem_124 = cust_dem_124.to_dict()\n",
    "it = iter(cust_dem_124.values())    \n",
    "first, cust_dem_124 = next(it), next(it) \n"
   ]
  },
  {
   "cell_type": "markdown",
   "id": "80df37b1",
   "metadata": {},
   "source": [
    "#### Dividing path individually for each depot"
   ]
  },
  {
   "cell_type": "code",
   "execution_count": 56,
   "id": "e52dd0ca",
   "metadata": {
    "scrolled": false
   },
   "outputs": [
    {
     "name": "stdout",
     "output_type": "stream",
     "text": [
      "[{'lorry_id': '523-0', 'loc': [(523, 5), (378, -0.54), (8, -0.2), (225, -0.64), (183, -0.4), (257, -0.2), (235, -0.36), (519, -0.21), (70, -1.46), (276, -0.93), (523, 0)]}, {'lorry_id': '523-1', 'loc': [(523, 5), (136, -0.34), (603, -0.86), (391, -1.0), (491, -0.34), (94, -1.52), (523, 0)]}, {'lorry_id': '523-2', 'loc': [(523, 12), (27, -1.02), (632, -1.24), (523, 0)]}, {'lorry_id': '523-3', 'loc': [(523, 12), (523, 0)]}, {'lorry_id': '523-4', 'loc': [(523, 22), (523, 0)]}, {'lorry_id': '127-0', 'loc': [(127, 5), (511, -0.24), (584, -0.22), (243, -0.67), (31, -0.56), (265, -0.48), (380, -0.16), (398, -0.89), (585, -1.41), (127, 0)]}, {'lorry_id': '127-1', 'loc': [(127, 5), (550, -0.46), (624, -0.51), (146, -1.45), (113, -0.45), (308, -0.68), (534, -1.19), (127, 0)]}, {'lorry_id': '127-2', 'loc': [(127, 12), (41, -1.03), (65, -0.72), (5, -0.1), (255, -0.17), (82, -0.6), (612, -0.79), (628, -1.27), (387, -1.24), (77, -1.47), (127, 0)]}, {'lorry_id': '127-3', 'loc': [(127, 12), (127, 0)]}, {'lorry_id': '127-4', 'loc': [(127, 22), (127, 0)]}, {'lorry_id': '373-0', 'loc': [(373, 5), (270, -0.22), (13, -0.2), (86, -1.03), (332, -0.79), (389, -0.07), (543, -0.54), (29, -0.54), (531, -0.11), (172, -0.91), (373, 0)]}, {'lorry_id': '373-1', 'loc': [(373, 5), (377, -0.95), (205, -0.91), (216, -0.27), (78, -0.63), (455, -0.3), (294, -0.81), (373, 0)]}, {'lorry_id': '373-2', 'loc': [(373, 12), (135, -1.33), (22, -1.68), (144, -0.46), (190, -0.36), (200, -0.27), (497, -0.98), (474, -0.4), (180, -0.76), (337, -0.45), (103, -0.44), (520, -0.44), (100, -1.02), (431, -0.39), (547, -0.95), (364, -0.89), (373, 0)]}, {'lorry_id': '373-3', 'loc': [(373, 12), (373, 0)]}, {'lorry_id': '373-4', 'loc': [(373, 22), (373, 0)]}, {'lorry_id': '167-0', 'loc': [(167, 5), (214, -1.61), (110, -1.99), (80, -0.23), (167, 0)]}, {'lorry_id': '167-1', 'loc': [(167, 5), (459, -1.98), (437, -0.94), (73, -0.23), (32, -0.92), (167, 0)]}, {'lorry_id': '167-2', 'loc': [(167, 5), (64, -0.96), (105, -1.27), (210, -0.47), (598, -0.97), (453, -0.61), (167, 0)]}, {'lorry_id': '167-3', 'loc': [(167, 12), (271, -0.9), (621, -0.24), (44, -0.71), (393, -1.12), (569, -0.13), (274, -0.17), (528, -0.12), (167, 0)]}, {'lorry_id': '167-4', 'loc': [(167, 22), (167, 0)]}, {'lorry_id': '124-0', 'loc': [(124, 5), (124, 0)]}, {'lorry_id': '124-1', 'loc': [(124, 12), (124, 0)]}, {'lorry_id': '124-2', 'loc': [(124, 12), (124, 0)]}, {'lorry_id': '124-3', 'loc': [(124, 12), (124, 0)]}, {'lorry_id': '124-4', 'loc': [(124, 22), (124, 0)]}]\n"
     ]
    }
   ],
   "source": [
    "all_path_523, path_dem_523= path_divider(final_path_523,veh_cap_523,cust_dem_523,523)\n",
    "all_path_127, path_dem_127 = path_divider(final_path_127,veh_cap_127,cust_dem_127,127)\n",
    "all_path_373, path_dem_373 = path_divider(final_path_373,veh_cap_373,cust_dem_373,373)\n",
    "all_path_167, path_dem_167 = path_divider(final_path_167,veh_cap_167,cust_dem_167,167)\n",
    "all_path_124, path_dem_124 = path_divider(final_path_127,veh_cap_124,cust_dem_124,124)\n",
    "\n",
    "final_result = path_dem_523 + path_dem_127 + path_dem_373 + path_dem_167 + path_dem_124\n",
    "print(final_result)"
   ]
  },
  {
   "cell_type": "markdown",
   "id": "30afcfe0",
   "metadata": {},
   "source": [
    "#### Encoder for json"
   ]
  },
  {
   "cell_type": "code",
   "execution_count": 57,
   "id": "e794490d",
   "metadata": {},
   "outputs": [],
   "source": [
    "class Encoder(json.JSONEncoder):\n",
    "    def default(self, obj):\n",
    "         if isinstance(obj, np.integer):\n",
    "            return int(obj)\n",
    "         elif isinstance(obj, np.floating):\n",
    "            return float(obj)\n",
    "         elif isinstance(obj, np.ndarray):\n",
    "            return obj.tolist()\n",
    "         else:\n",
    "            return super(NpEncoder, self).default(obj)"
   ]
  },
  {
   "cell_type": "markdown",
   "id": "fbc82999",
   "metadata": {},
   "source": [
    "#### Coverting dictionary to json nd exporting"
   ]
  },
  {
   "cell_type": "code",
   "execution_count": 58,
   "id": "9dbb6502",
   "metadata": {},
   "outputs": [],
   "source": [
    "import json\n",
    "\n",
    "with open('SAO_Optilandia_Solution_1.json', 'w') as outfile:\n",
    "    \n",
    "    json.dump(final_result, outfile, cls=Encoder)"
   ]
  },
  {
   "cell_type": "markdown",
   "id": "6fead9e6",
   "metadata": {},
   "source": [
    "## Problem 2: "
   ]
  },
  {
   "cell_type": "markdown",
   "id": "350d95e4",
   "metadata": {},
   "source": [
    "### Tasks\n",
    "Schedule LPG delivery to minimise the cost efficiency, where cost efficiency = Total gas delivered to all customer/ Total overall cost\n",
    "Contraints\n",
    "1. Each lorry must stop for 20 minutes after every 2 hours continuous driving\n",
    "2. Lorry with small tank can stop only 4 times, medium one only 8 times and large one 12 times\n",
    "3. Each Lorry can end and refill at any depot\n",
    "4. All customer must have more than 50% gas, else penalty pound 1000 fine\n",
    "\n"
   ]
  },
  {
   "cell_type": "markdown",
   "id": "fea5538d",
   "metadata": {},
   "source": [
    "### METHODOLOGY USED TO SOLVE\n",
    " 1. Prepared Data and Depot allocation used from the Problem 1\n",
    " 2. Applied to get most cost effective single path for each depot\n",
    " 3. Path received for each depot is divided into 5 path each for the vehicle depending on the vahicle and customer demand\n",
    "     * a. only serving not must csutomer if cost is less than 1000 or is in way to a must customer\n",
    "     * b. preferabbly using larger vehicle first  because it can take longer trips and cost per tonne will reduce \n",
    "     * c. in case of need to refill utilizing other nearest depot"
   ]
  },
  {
   "cell_type": "markdown",
   "id": "7c2bac1a",
   "metadata": {},
   "source": [
    "### Important Points Noticed\n",
    "* To maximize efficiency the formula is \n",
    "*                    Cost Efficiency = Total Gas delivered to all customer/cost of delivery\n",
    "*                       Cost(one node to next) =distance * (cpm + weight(tonnes) * cptm)                   \n",
    "    *               where cpm-cost per mile of vehicle & cptm - cost per mile per tonne of vehicle\n",
    "* To achieve above we will serve customer not must only if cost is below 1000 to reach them\n",
    "* Will utilize Larger tanks initially if have more customers\n",
    "* Can go to different nearest depot in case of refill\n",
    "* 20 min break after 2 hours i.e after every  continuous 100 mile"
   ]
  },
  {
   "cell_type": "markdown",
   "id": "9bc4f514",
   "metadata": {},
   "source": [
    "## Library Import"
   ]
  },
  {
   "cell_type": "code",
   "execution_count": 59,
   "id": "5144c526",
   "metadata": {},
   "outputs": [],
   "source": [
    "import pandas as pd\n",
    "import networkx as nx\n",
    "import matplotlib.pyplot as plt"
   ]
  },
  {
   "cell_type": "markdown",
   "id": "2c1997bd",
   "metadata": {},
   "source": [
    "### Preparing data from the data files"
   ]
  },
  {
   "cell_type": "code",
   "execution_count": 60,
   "id": "bfaa9132",
   "metadata": {},
   "outputs": [],
   "source": [
    "# Make a customer only dataframe with location coordinates and details\n",
    "cust_loc=loc.loc[loc['is_customer'] == True]      \n",
    "\n",
    "# A dataframe to get the customers who has current level less than 50% of its total capacity\n",
    "cust_must_df=cust_loc.loc[cust_loc['level']<cust_loc['capacity']*0.5]\n",
    "\n",
    "# List of all depots\n",
    "depot_list=loc.loc[loc['is_depot'] == True]['id'].tolist()\n",
    "\n",
    "#list of all customers\n",
    "cust_List=loc.loc[loc['is_customer'] == True]['id'].tolist()\n",
    "\n",
    "# list of all customers to whome we should deliver fuel to avoid penalty \n",
    "cust_must=cust_must_df[\"id\"].tolist()"
   ]
  },
  {
   "cell_type": "markdown",
   "id": "0143d30b",
   "metadata": {},
   "source": [
    "### Greedy Search Method to reduce cost"
   ]
  },
  {
   "cell_type": "markdown",
   "id": "0df2fe6e",
   "metadata": {},
   "source": [
    "#### Function to find nearest node from given list of node"
   ]
  },
  {
   "cell_type": "code",
   "execution_count": 61,
   "id": "09468d7e",
   "metadata": {},
   "outputs": [],
   "source": [
    "def nearest_node(node,node_list):\n",
    "    for i in node_list:\n",
    "        if i==node:\n",
    "            continue\n",
    "        else:\n",
    "            temp=pair_dist[node][i]\n",
    "            nearest_node=[i,temp]\n",
    "            break\n",
    "    for i in node_list:\n",
    "        if i == node:\n",
    "            continue\n",
    "        else:\n",
    "            if pair_dist[node][i]<temp:\n",
    "                temp = pair_dist[node][i]\n",
    "                nearest_node=[i,temp]\n",
    "    return nearest_node"
   ]
  },
  {
   "cell_type": "markdown",
   "id": "87bd4bed",
   "metadata": {},
   "source": [
    "#### Function to check penalty"
   ]
  },
  {
   "cell_type": "code",
   "execution_count": 62,
   "id": "d373446c",
   "metadata": {},
   "outputs": [],
   "source": [
    "### Applying contraint 4 - if not reaching any customer adding penalty 1000\n",
    "def cust_penalty(cust,tripcost):\n",
    "    if cust in cust_must:\n",
    "        if tripcost>1000:\n",
    "            return(True)\n",
    "        else:\n",
    "            return(False)\n",
    "    return(True)"
   ]
  },
  {
   "cell_type": "markdown",
   "id": "8398eb2a",
   "metadata": {},
   "source": [
    "#### Function to calculate total gas delivered"
   ]
  },
  {
   "cell_type": "code",
   "execution_count": 63,
   "id": "fe8be6d2",
   "metadata": {},
   "outputs": [],
   "source": [
    "def Total_gas_del(cust_dep,Unvisited_dep):\n",
    "    temp_list = list(set(cust_dep) - set(Unvisited_dep))\n",
    "    Total_Gas_Del = 0\n",
    "    for i in temp_list:\n",
    "        gas_delv = (loc.demand[loc.id==i]).iloc[0]\n",
    "        Total_Gas_Del = Total_Gas_Del + gas_delv\n",
    "    return(Total_Gas_Del)"
   ]
  },
  {
   "cell_type": "markdown",
   "id": "ce2b0394",
   "metadata": {},
   "source": [
    "#### One vehicle trip calculator function"
   ]
  },
  {
   "cell_type": "code",
   "execution_count": 64,
   "id": "816802fb",
   "metadata": {},
   "outputs": [],
   "source": [
    "def lorry_trip(veh_id, cus_list,depot):\n",
    "    print('Vehicle begin trip at:',depot)\n",
    "    stop= (lorry.stop[lorry.lorry_id == veh_id]).iloc[0]\n",
    "    capacity=(lorry.capacity[lorry.lorry_id == veh_id]).iloc[0]\n",
    "    cpm = (lorry.cpm[lorry.lorry_id == veh_id]).iloc[0]\n",
    "    cptm = (lorry.cptm[lorry.lorry_id == veh_id]).iloc[0]\n",
    "    c_cus=depot\n",
    "    cus_list = cus_list\n",
    "    unvisited_cus=[]\n",
    "    n_cus=nearest_node(c_cus,cus_list)\n",
    "    n=(loc.demand[loc.id==n_cus[0]]).iloc[0]\n",
    "    trip=[(depot,capacity)]\n",
    "    tripcost_list=[]\n",
    "    \n",
    "    while((len(cus_list)>0) and (capacity>=n) and (stop!=0)):\n",
    "        cost= n_cus[1] * (cpm + (capacity * cptm))\n",
    "        if (len(cus_list)==1 and (cust_penalty(n_cus[0],cost))):\n",
    "            unvisited_cus.append(n_cus[0])  ### Applying contraint 4 - if not reaching any customer adding penalty 1000\n",
    "            cus_list.remove(n_cus[0])\n",
    "            tripcost_list.append(cost)\n",
    "        else:\n",
    "            if n_cus[1]>100:\n",
    "                t=int(n_cus[1] // 100)\n",
    "                for i in range(t):     ### Applying contraint 1 - adding 20 min break after 2 hours continuous drive\n",
    "                    trip.append('20 min break')\n",
    "            trip.append((n_cus[0],-n))\n",
    "            stop=stop-1           ### Applying contraint 2 - small only 4 stop, medium 8stop and large 16 stop\n",
    "            cus_list.remove(n_cus[0])\n",
    "            cost= n_cus[1] * (cpm + (capacity * cptm))\n",
    "            tripcost_list.append(cost)\n",
    "            capacity=capacity-n\n",
    "            c_cus=n_cus[0]\n",
    "            if len(cus_list)!=0:\n",
    "                n_cus=nearest_node(c_cus,cus_list)\n",
    "                n=(loc.demand[loc.id==n_cus[0]]).iloc[0]\n",
    "        \n",
    "\n",
    "    tripcost=0\n",
    "    for i in tripcost_list:\n",
    "        tripcost=tripcost+i\n",
    "    \n",
    "    print('Vehicle end trip at:',trip[-1])\n",
    "    return(trip,tripcost,cus_list,unvisited_cus)                                          \n",
    "                                         "
   ]
  },
  {
   "cell_type": "markdown",
   "id": "e1732dff",
   "metadata": {},
   "source": [
    "#### Vehicle selection function"
   ]
  },
  {
   "cell_type": "code",
   "execution_count": 65,
   "id": "8f28f42d",
   "metadata": {},
   "outputs": [],
   "source": [
    "def veh_sel(depot,cus_list,s,m,l):\n",
    "    no_cust=len(cus_list)\n",
    "    veh_sel_id = 0\n",
    "    if no_cust > 8 and l != 0:\n",
    "        veh_sel_id = (lorry.lorry_id[(lorry.depot==depot) & (lorry.capacity==22)]).iloc[0]\n",
    "        l=l-1\n",
    "    elif no_cust > 4 and m != 0:\n",
    "        veh_ids = (lorry.lorry_id[(lorry.depot==depot) & (lorry.capacity==12)]).values.tolist()\n",
    "        if len(veh_ids)==3 and m==3:\n",
    "            veh_sel_id = veh_ids[2]\n",
    "            m=m-1\n",
    "        elif (len(veh_ids)==3 or len(veh_ids)==2) and m==2:\n",
    "            veh_sel_id = veh_ids[1]\n",
    "            m=m-1\n",
    "        elif (len(veh_ids)==3 or len(veh_ids)==2 or len(veh_ids)==1) and m==1:\n",
    "            veh_sel_id = veh_ids[0]\n",
    "            m=m-1\n",
    "    else:\n",
    "        veh_ids = (lorry.lorry_id[(lorry.depot==depot) & (lorry.capacity==5)]).values.tolist()\n",
    "        if len(veh_ids)==3 and s==3:\n",
    "            veh_sel_id = veh_ids[2]\n",
    "            s=s-1\n",
    "        elif (len(veh_ids)==3 or len(veh_ids)==2) and s==2:\n",
    "            veh_sel_id = veh_ids[1]\n",
    "            s=s-1\n",
    "        elif (len(veh_ids)==3 or len(veh_ids)==2 or len(veh_ids)==1) and s==1:\n",
    "            veh_sel_id = veh_ids[0]\n",
    "            s=s-1\n",
    "    \n",
    "    return (veh_sel_id,s,m,l)\n"
   ]
  },
  {
   "cell_type": "markdown",
   "id": "17cf0194",
   "metadata": {},
   "source": [
    "#### Function Scheduling Plan using Greedy Method"
   ]
  },
  {
   "cell_type": "code",
   "execution_count": 66,
   "id": "52a88dab",
   "metadata": {},
   "outputs": [],
   "source": [
    "def GreedyMethod(depot, cust_list):\n",
    "    rem_cust_list = cust_list\n",
    "    total_cost= 0\n",
    "    route=[]\n",
    "    unvisited_cust=[]\n",
    "    s =len((lorry[(lorry.depot==depot) & (lorry.capacity==5)]).index)\n",
    "    m =len((lorry[(lorry.depot==depot) & (lorry.capacity==12)]).index)\n",
    "    l =len((lorry[(lorry.depot==depot) & (lorry.capacity==22)]).index)\n",
    "    \n",
    "    while((len(rem_cust_list)!= 0) and (s!=0 or m!=0 or l!=0)):\n",
    "        ### select vehicle\n",
    "        veh_id,s,m,l = veh_sel(depot,rem_cust_list,s,m,l)\n",
    "        print('Vehicle Selected:',veh_id)\n",
    "        ### generate trip for the vehicle\n",
    "        trip, tripcost, rem_cust_list,unvisited_cust= lorry_trip(veh_id,rem_cust_list,depot)\n",
    "        route_list=[veh_id,trip]\n",
    "        Veh_key=[\"lorry_id\",\"loc\"]\n",
    "        route_dict = dict(zip(Veh_key, route_list))\n",
    "        route.append(route_dict)\n",
    "        total_cost = total_cost + tripcost\n",
    "\n",
    "     \n",
    "    while (len(rem_cust_list))!=0:\n",
    "        print(\"Next trip\")\n",
    "        s =len((lorry[(lorry.depot==depot) & (lorry.capacity==5)]).index)\n",
    "        m =len((lorry[(lorry.depot==depot) & (lorry.capacity==12)]).index)\n",
    "        l =len((lorry[(lorry.depot==depot) & (lorry.capacity==22)]).index)\n",
    "\n",
    "        while((len(rem_cust_list)!= 0) and (s!=0 or m!=0 or l!=0)):\n",
    "            ### select vehicle\n",
    "            veh_id,s,m,l = veh_sel(depot,rem_cust_list,s,m,l)\n",
    "            print('Vehicle Selected for next trip:',veh_id)\n",
    "            ### find last customer served and nearest depot\n",
    "            l_cus = route[veh_id][-1][0]\n",
    "            c_depot = nearest_node(l_cus,[523,127,373,167,124]) ### Applying contraint 3 (going to any depot to refill)\n",
    "            ### generate trip for the vehicle\n",
    "            trip, tripcost, rem_cust_list, unvisited_cust= lorry_trip(veh_id, rem_cust_list,c_depot[0])\n",
    "            route_list=[veh_id,trip]\n",
    "            Veh_key=[\"lorry_id\",\"loc\"]\n",
    "            route_dict = dict(zip(Veh_key, route_list))\n",
    "            route.append(route_dict)\n",
    "            total_cost = total_cost + tripcost\n",
    "    \n",
    "    for i in route:\n",
    "        i['loc'].append((depot,0))\n",
    "    \n",
    "    return (route,total_cost,unvisited_cust)"
   ]
  },
  {
   "cell_type": "markdown",
   "id": "a0fd1828",
   "metadata": {},
   "source": [
    "### Main function\n",
    "#### Each depot calling the Greedy Method function to find the optimized path"
   ]
  },
  {
   "cell_type": "code",
   "execution_count": 67,
   "id": "8a9483a9",
   "metadata": {
    "scrolled": true
   },
   "outputs": [
    {
     "name": "stdout",
     "output_type": "stream",
     "text": [
      "Vehicle Selected: 523-4\n",
      "Vehicle begin trip at: 523\n",
      "Vehicle end trip at: (378, -0.54)\n",
      "Vehicle Selected: 127-4\n",
      "Vehicle begin trip at: 127\n",
      "Vehicle end trip at: (77, -1.47)\n",
      "Vehicle Selected: 127-3\n",
      "Vehicle begin trip at: 127\n",
      "Vehicle end trip at: (243, -0.67)\n",
      "Vehicle Selected: 373-4\n",
      "Vehicle begin trip at: 373\n",
      "Vehicle end trip at: (455, -0.3)\n",
      "Vehicle Selected: 373-3\n",
      "Vehicle begin trip at: 373\n",
      "Vehicle end trip at: (332, -0.79)\n",
      "Vehicle Selected: 373-2\n",
      "Vehicle begin trip at: 373\n",
      "Vehicle end trip at: (135, -1.33)\n",
      "Vehicle Selected: 167-4\n",
      "Vehicle begin trip at: 167\n",
      "Vehicle end trip at: (73, -0.23)\n",
      "Vehicle Selected: 167-2\n",
      "Vehicle begin trip at: 167\n",
      "Vehicle end trip at: (214, -1.61)\n",
      "Vehicle Selected: 124-4\n",
      "Vehicle begin trip at: 124\n",
      "Vehicle end trip at: (606, -1.44)\n",
      "Vehicle Selected: 124-3\n",
      "Vehicle begin trip at: 124\n",
      "Vehicle end trip at: (374, -0.5)\n",
      "Vehicle Selected: 124-2\n",
      "Vehicle begin trip at: 124\n",
      "Vehicle end trip at: (63, -0.47)\n",
      "Vehicle Selected: 124-1\n",
      "Vehicle begin trip at: 124\n",
      "Vehicle end trip at: (400, -0.19)\n",
      "Final route of trip is [{'lorry_id': '523-4', 'loc': [(523, 22), (257, -0.2), (235, -0.36), (519, -0.21), (491, -0.34), (27, -1.02), '20 min break', (632, -1.24), (94, -1.52), '20 min break', '20 min break', (70, -1.46), (276, -0.93), (603, -0.86), (136, -0.34), (391, -1.0), '20 min break', '20 min break', (225, -0.64), (8, -0.2), (378, -0.54), (523, 0)]}, {'lorry_id': '127-4', 'loc': [(127, 22), (255, -0.17), (585, -1.41), (82, -0.6), (612, -0.79), '20 min break', (628, -1.27), '20 min break', '20 min break', (550, -0.46), (624, -0.51), (146, -1.45), (5, -0.1), (113, -0.45), (308, -0.68), (387, -1.24), (65, -0.72), '20 min break', (534, -1.19), (41, -1.03), '20 min break', (77, -1.47), (127, 0)]}, {'lorry_id': '127-3', 'loc': [(127, 12), '20 min break', (398, -0.89), '20 min break', (380, -0.16), (584, -0.22), (511, -0.24), '20 min break', (31, -0.56), (265, -0.48), (243, -0.67), (127, 0)]}, {'lorry_id': '373-4', 'loc': [(373, 22), (520, -0.44), (100, -1.02), '20 min break', (270, -0.22), (13, -0.2), (337, -0.45), (200, -0.27), (180, -0.76), (377, -0.95), (547, -0.95), '20 min break', (431, -0.39), (103, -0.44), (78, -0.63), '20 min break', (364, -0.89), (205, -0.91), '20 min break', (216, -0.27), '20 min break', '20 min break', (455, -0.3), (373, 0)]}, {'lorry_id': '373-3', 'loc': [(373, 12), '20 min break', (497, -0.98), (474, -0.4), '20 min break', (543, -0.54), '20 min break', (29, -0.54), (531, -0.11), (172, -0.91), (86, -1.03), (332, -0.79), (373, 0)]}, {'lorry_id': '373-2', 'loc': [(373, 12), '20 min break', (294, -0.81), (144, -0.46), (22, -1.68), (190, -0.36), '20 min break', (135, -1.33), (373, 0)]}, {'lorry_id': '167-4', 'loc': [(167, 22), (598, -0.97), (110, -1.99), '20 min break', (621, -0.24), (453, -0.61), (271, -0.9), '20 min break', (569, -0.13), (393, -1.12), (44, -0.71), '20 min break', (274, -0.17), '20 min break', '20 min break', (80, -0.23), (459, -1.98), (437, -0.94), (528, -0.12), '20 min break', (64, -0.96), '20 min break', (32, -0.92), (73, -0.23), (167, 0)]}, {'lorry_id': '167-2', 'loc': [(167, 5), '20 min break', (105, -1.27), (210, -0.47), '20 min break', (214, -1.61), (167, 0)]}, {'lorry_id': '124-4', 'loc': [(124, 22), (542, -0.47), (14, -0.33), (36, -0.81), (206, -0.88), (254, -1.28), (147, -0.85), (397, -0.7), (171, -1.32), (264, -0.86), '20 min break', (372, -1.75), (169, -1.4), '20 min break', (324, -0.42), '20 min break', (177, -1.23), (118, -0.71), (362, -0.75), '20 min break', (606, -1.44), (124, 0)]}, {'lorry_id': '124-3', 'loc': [(124, 12), (204, -0.69), '20 min break', (476, -0.31), (220, -0.61), (418, -0.33), (446, -0.94), (160, -0.91), (202, -0.17), '20 min break', (374, -0.5), (124, 0)]}, {'lorry_id': '124-2', 'loc': [(124, 12), '20 min break', (633, -0.18), (260, -1.62), (539, -0.28), (449, -1.74), (245, -0.15), (566, -0.26), (130, -1.19), (63, -0.47), (124, 0)]}, {'lorry_id': '124-1', 'loc': [(124, 12), '20 min break', (411, -0.99), '20 min break', (507, -1.15), '20 min break', '20 min break', (175, -1.63), (400, -0.19), (124, 0)]}]\n",
      "Total cost of trip is 116263.3322237069\n",
      "Total Gas delivered is 91.73\n",
      "Cost Efficiency is 0.0007889847834698104\n",
      "Unvisited Customers are [183, 389, 408]\n"
     ]
    }
   ],
   "source": [
    "cust_523= CustomerOnly(523,all_523)\n",
    "cust_127= CustomerOnly(127,all_127)\n",
    "cust_373= CustomerOnly(373,all_373)\n",
    "cust_167= CustomerOnly(167,all_167)\n",
    "cust_124= CustomerOnly(124,all_124)\n",
    "Route_523,Cost_523,Unvisited_523 = GreedyMethod(523, cust_523)\n",
    "Total_gas_523 = Total_gas_del(CustomerOnly(523,all_523),Unvisited_523)\n",
    "Route_127,Cost_127,Unvisited_127 = GreedyMethod(127, cust_127)\n",
    "Total_gas_127 = Total_gas_del(CustomerOnly(127,all_127),Unvisited_127)\n",
    "Route_373,Cost_373,Unvisited_373 = GreedyMethod(373, cust_373)\n",
    "Total_gas_373 = Total_gas_del(CustomerOnly(373,all_373),Unvisited_373)\n",
    "Route_167,Cost_167,Unvisited_167 = GreedyMethod(167, cust_167)\n",
    "Total_gas_167 = Total_gas_del(CustomerOnly(167,all_167),Unvisited_167)\n",
    "Route_124,Cost_124,Unvisited_124 = GreedyMethod(124, cust_124)\n",
    "Total_gas_124 = Total_gas_del(CustomerOnly(124,all_124),Unvisited_124)\n",
    "\n",
    "Final_Route= Route_523 + Route_127 + Route_373 + Route_167 + Route_124\n",
    "print(\"Final route of trip is\", Final_Route)\n",
    "Total_Cost = Cost_523 + Cost_127 + Cost_373 + Cost_167 + Cost_124\n",
    "print(\"Total cost of trip is\", Total_Cost)\n",
    "Total_Gas = Total_gas_523 + Total_gas_127 + Total_gas_373 + Total_gas_167 + Total_gas_124\n",
    "print(\"Total Gas delivered is\", Total_Gas)\n",
    "Cost_Efficiency = (Total_Gas/Total_Cost)\n",
    "print(\"Cost Efficiency is\", Cost_Efficiency)\n",
    "Unvisited_Cus = Unvisited_523 + Unvisited_127 + Unvisited_373 + Unvisited_167 + Unvisited_124\n",
    "print(\"Unvisited Customers are\", Unvisited_Cus)"
   ]
  },
  {
   "cell_type": "markdown",
   "id": "8eaaa21e",
   "metadata": {},
   "source": [
    "#### Function Encoder for json"
   ]
  },
  {
   "cell_type": "code",
   "execution_count": 68,
   "id": "fba48ef4",
   "metadata": {},
   "outputs": [],
   "source": [
    "class Encoder(json.JSONEncoder):\n",
    "    def default(self, obj):\n",
    "         if isinstance(obj, np.integer):\n",
    "            return int(obj)\n",
    "         elif isinstance(obj, np.floating):\n",
    "            return float(obj)\n",
    "         elif isinstance(obj, np.ndarray):\n",
    "            return obj.tolist()\n",
    "         else:\n",
    "            return super(NpEncoder, self).default(obj)"
   ]
  },
  {
   "cell_type": "markdown",
   "id": "f2a0a8f3",
   "metadata": {},
   "source": [
    "#### Coverting dictionary to json nd exporting"
   ]
  },
  {
   "cell_type": "code",
   "execution_count": 69,
   "id": "0fee382b",
   "metadata": {},
   "outputs": [],
   "source": [
    "import json\n",
    "\n",
    "with open('SAO_Optilandia_Solution_2.json', 'w') as outfile:\n",
    "    \n",
    "    json.dump(Final_Route, outfile, cls=Encoder)    "
   ]
  },
  {
   "cell_type": "markdown",
   "id": "e67dcbfc",
   "metadata": {},
   "source": [
    "## CONCLUSION\n",
    "In this solution file we used genetic algorithm and greedy algorithm to solve two problems for scheduling and planning the vehicle route and delivery schedule for LPG Gas distribution for SAO Gas Ltd to Country of Optilandia. Both Genetic and greedy algorithm generate optimal paths but while comparing we noticed that as Genetic algorithm is based on randomness it takes more time and generate less optimal solution compared to greedy algorithm which uses the greedymechanism to find the next nearest node rather than random so generate more optimal path in less time compared to genetic algorithm."
   ]
  }
 ],
 "metadata": {
  "kernelspec": {
   "display_name": "Python 3 (ipykernel)",
   "language": "python",
   "name": "python3"
  },
  "language_info": {
   "codemirror_mode": {
    "name": "ipython",
    "version": 3
   },
   "file_extension": ".py",
   "mimetype": "text/x-python",
   "name": "python",
   "nbconvert_exporter": "python",
   "pygments_lexer": "ipython3",
   "version": "3.9.7"
  }
 },
 "nbformat": 4,
 "nbformat_minor": 5
}
